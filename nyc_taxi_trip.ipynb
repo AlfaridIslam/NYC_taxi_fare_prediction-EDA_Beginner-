{
 "cells": [
  {
   "cell_type": "markdown",
   "id": "42b30f68",
   "metadata": {},
   "source": [
    "# Load Libraries"
   ]
  },
  {
   "cell_type": "code",
   "execution_count": 1,
   "id": "aebbb16c",
   "metadata": {},
   "outputs": [
    {
     "name": "stdout",
     "output_type": "stream",
     "text": [
      "Libraries Import Successfully\n"
     ]
    }
   ],
   "source": [
    "# import the  libraries\n",
    "import pandas as pd\n",
    "import numpy as np\n",
    "\n",
    "import matplotlib.pyplot as plt\n",
    "plt.style.use('fivethirtyeight')\n",
    "%matplotlib inline\n",
    "import seaborn as sns\n",
    "import datetime\n",
    "import sklearn\n",
    "\n",
    "import warnings\n",
    "warnings.filterwarnings(\"ignore\")\n",
    "print(\"Libraries Import Successfully\")"
   ]
  },
  {
   "cell_type": "markdown",
   "id": "c8788040",
   "metadata": {},
   "source": [
    "# Load Data"
   ]
  },
  {
   "cell_type": "code",
   "execution_count": 2,
   "id": "f378fc44",
   "metadata": {},
   "outputs": [],
   "source": [
    "# read the dataset\n",
    "data = pd.read_csv('C:/Users/Alfarid/Desktop/dataset//ALFARID_EDA_PROJECT/nyc_taxi_trip_duration.csv')\n",
    "df = data.sample(n = 10000, random_state=1)"
   ]
  },
  {
   "cell_type": "code",
   "execution_count": 3,
   "id": "89997cf3",
   "metadata": {},
   "outputs": [
    {
     "data": {
      "text/html": [
       "<div>\n",
       "<style scoped>\n",
       "    .dataframe tbody tr th:only-of-type {\n",
       "        vertical-align: middle;\n",
       "    }\n",
       "\n",
       "    .dataframe tbody tr th {\n",
       "        vertical-align: top;\n",
       "    }\n",
       "\n",
       "    .dataframe thead th {\n",
       "        text-align: right;\n",
       "    }\n",
       "</style>\n",
       "<table border=\"1\" class=\"dataframe\">\n",
       "  <thead>\n",
       "    <tr style=\"text-align: right;\">\n",
       "      <th></th>\n",
       "      <th>id</th>\n",
       "      <th>vendor_id</th>\n",
       "      <th>pickup_datetime</th>\n",
       "      <th>dropoff_datetime</th>\n",
       "      <th>passenger_count</th>\n",
       "      <th>pickup_longitude</th>\n",
       "      <th>pickup_latitude</th>\n",
       "      <th>dropoff_longitude</th>\n",
       "      <th>dropoff_latitude</th>\n",
       "      <th>store_and_fwd_flag</th>\n",
       "      <th>trip_duration</th>\n",
       "    </tr>\n",
       "  </thead>\n",
       "  <tbody>\n",
       "    <tr>\n",
       "      <th>455488</th>\n",
       "      <td>id2898909</td>\n",
       "      <td>1</td>\n",
       "      <td>2016-03-03 10:30:21</td>\n",
       "      <td>2016-03-03 10:43:49</td>\n",
       "      <td>1</td>\n",
       "      <td>-73.991409</td>\n",
       "      <td>40.750320</td>\n",
       "      <td>-73.978813</td>\n",
       "      <td>40.762032</td>\n",
       "      <td>N</td>\n",
       "      <td>808</td>\n",
       "    </tr>\n",
       "    <tr>\n",
       "      <th>112922</th>\n",
       "      <td>id3276089</td>\n",
       "      <td>2</td>\n",
       "      <td>2016-03-23 18:39:57</td>\n",
       "      <td>2016-03-23 19:01:06</td>\n",
       "      <td>1</td>\n",
       "      <td>-73.981850</td>\n",
       "      <td>40.773289</td>\n",
       "      <td>-73.978973</td>\n",
       "      <td>40.757240</td>\n",
       "      <td>N</td>\n",
       "      <td>1269</td>\n",
       "    </tr>\n",
       "  </tbody>\n",
       "</table>\n",
       "</div>"
      ],
      "text/plain": [
       "               id  vendor_id      pickup_datetime     dropoff_datetime  \\\n",
       "455488  id2898909          1  2016-03-03 10:30:21  2016-03-03 10:43:49   \n",
       "112922  id3276089          2  2016-03-23 18:39:57  2016-03-23 19:01:06   \n",
       "\n",
       "        passenger_count  pickup_longitude  pickup_latitude  dropoff_longitude  \\\n",
       "455488                1        -73.991409        40.750320         -73.978813   \n",
       "112922                1        -73.981850        40.773289         -73.978973   \n",
       "\n",
       "        dropoff_latitude store_and_fwd_flag  trip_duration  \n",
       "455488         40.762032                  N            808  \n",
       "112922         40.757240                  N           1269  "
      ]
     },
     "execution_count": 3,
     "metadata": {},
     "output_type": "execute_result"
    }
   ],
   "source": [
    "# checking first 2 rows (datapoints)\n",
    "df.head(2)"
   ]
  },
  {
   "cell_type": "code",
   "execution_count": 4,
   "id": "fd086e8c",
   "metadata": {},
   "outputs": [
    {
     "data": {
      "text/html": [
       "<div>\n",
       "<style scoped>\n",
       "    .dataframe tbody tr th:only-of-type {\n",
       "        vertical-align: middle;\n",
       "    }\n",
       "\n",
       "    .dataframe tbody tr th {\n",
       "        vertical-align: top;\n",
       "    }\n",
       "\n",
       "    .dataframe thead th {\n",
       "        text-align: right;\n",
       "    }\n",
       "</style>\n",
       "<table border=\"1\" class=\"dataframe\">\n",
       "  <thead>\n",
       "    <tr style=\"text-align: right;\">\n",
       "      <th></th>\n",
       "      <th>id</th>\n",
       "      <th>vendor_id</th>\n",
       "      <th>pickup_datetime</th>\n",
       "      <th>dropoff_datetime</th>\n",
       "      <th>passenger_count</th>\n",
       "      <th>pickup_longitude</th>\n",
       "      <th>pickup_latitude</th>\n",
       "      <th>dropoff_longitude</th>\n",
       "      <th>dropoff_latitude</th>\n",
       "      <th>store_and_fwd_flag</th>\n",
       "      <th>trip_duration</th>\n",
       "    </tr>\n",
       "  </thead>\n",
       "  <tbody>\n",
       "    <tr>\n",
       "      <th>222986</th>\n",
       "      <td>id0368269</td>\n",
       "      <td>2</td>\n",
       "      <td>2016-06-23 19:00:44</td>\n",
       "      <td>2016-06-23 19:08:55</td>\n",
       "      <td>1</td>\n",
       "      <td>-73.969582</td>\n",
       "      <td>40.763351</td>\n",
       "      <td>-73.966789</td>\n",
       "      <td>40.757462</td>\n",
       "      <td>N</td>\n",
       "      <td>491</td>\n",
       "    </tr>\n",
       "    <tr>\n",
       "      <th>320851</th>\n",
       "      <td>id2841021</td>\n",
       "      <td>2</td>\n",
       "      <td>2016-02-05 06:52:43</td>\n",
       "      <td>2016-02-05 06:54:47</td>\n",
       "      <td>2</td>\n",
       "      <td>-73.999619</td>\n",
       "      <td>40.743626</td>\n",
       "      <td>-73.992867</td>\n",
       "      <td>40.748825</td>\n",
       "      <td>N</td>\n",
       "      <td>124</td>\n",
       "    </tr>\n",
       "  </tbody>\n",
       "</table>\n",
       "</div>"
      ],
      "text/plain": [
       "               id  vendor_id      pickup_datetime     dropoff_datetime  \\\n",
       "222986  id0368269          2  2016-06-23 19:00:44  2016-06-23 19:08:55   \n",
       "320851  id2841021          2  2016-02-05 06:52:43  2016-02-05 06:54:47   \n",
       "\n",
       "        passenger_count  pickup_longitude  pickup_latitude  dropoff_longitude  \\\n",
       "222986                1        -73.969582        40.763351         -73.966789   \n",
       "320851                2        -73.999619        40.743626         -73.992867   \n",
       "\n",
       "        dropoff_latitude store_and_fwd_flag  trip_duration  \n",
       "222986         40.757462                  N            491  \n",
       "320851         40.748825                  N            124  "
      ]
     },
     "execution_count": 4,
     "metadata": {},
     "output_type": "execute_result"
    }
   ],
   "source": [
    "# checking last 2 rows (datapoints)\n",
    "df.tail(2)"
   ]
  },
  {
   "cell_type": "markdown",
   "id": "3caf0aef",
   "metadata": {},
   "source": [
    "# Extracting DateTime"
   ]
  },
  {
   "cell_type": "code",
   "execution_count": 5,
   "id": "1baeab6d",
   "metadata": {},
   "outputs": [],
   "source": [
    "#EXTRACTING month,day,hour,year data from datetimefor both pickup ad dropoff\n",
    "\n",
    "for i in['pickup','dropoff']:\n",
    "    df['{}_datetime'.format(i)] = pd.to_datetime(df['{}_datetime'.format(i)])\n",
    "    df['{}_month'.format(i)] = df['{}_datetime'.format(i)].apply(lambda x:x.month)\n",
    "    df['{}_day_name'.format(i)] = df['{}_datetime'.format(i)].apply(lambda x:x.day_name())\n",
    "    df['{}_hour'.format(i)]= df['{}_datetime'.format(i)].apply(lambda x:x.hour)\n",
    "    df['{}_year'.format(i)] = df['{}_datetime'.format(i)].apply(lambda x:x.year)"
   ]
  },
  {
   "cell_type": "code",
   "execution_count": 6,
   "id": "9b2938bd",
   "metadata": {},
   "outputs": [
    {
     "data": {
      "text/html": [
       "<div>\n",
       "<style scoped>\n",
       "    .dataframe tbody tr th:only-of-type {\n",
       "        vertical-align: middle;\n",
       "    }\n",
       "\n",
       "    .dataframe tbody tr th {\n",
       "        vertical-align: top;\n",
       "    }\n",
       "\n",
       "    .dataframe thead th {\n",
       "        text-align: right;\n",
       "    }\n",
       "</style>\n",
       "<table border=\"1\" class=\"dataframe\">\n",
       "  <thead>\n",
       "    <tr style=\"text-align: right;\">\n",
       "      <th></th>\n",
       "      <th>id</th>\n",
       "      <th>vendor_id</th>\n",
       "      <th>pickup_datetime</th>\n",
       "      <th>dropoff_datetime</th>\n",
       "      <th>passenger_count</th>\n",
       "      <th>pickup_longitude</th>\n",
       "      <th>pickup_latitude</th>\n",
       "      <th>dropoff_longitude</th>\n",
       "      <th>dropoff_latitude</th>\n",
       "      <th>store_and_fwd_flag</th>\n",
       "      <th>trip_duration</th>\n",
       "      <th>pickup_month</th>\n",
       "      <th>pickup_day_name</th>\n",
       "      <th>pickup_hour</th>\n",
       "      <th>pickup_year</th>\n",
       "      <th>dropoff_month</th>\n",
       "      <th>dropoff_day_name</th>\n",
       "      <th>dropoff_hour</th>\n",
       "      <th>dropoff_year</th>\n",
       "    </tr>\n",
       "  </thead>\n",
       "  <tbody>\n",
       "    <tr>\n",
       "      <th>455488</th>\n",
       "      <td>id2898909</td>\n",
       "      <td>1</td>\n",
       "      <td>2016-03-03 10:30:21</td>\n",
       "      <td>2016-03-03 10:43:49</td>\n",
       "      <td>1</td>\n",
       "      <td>-73.991409</td>\n",
       "      <td>40.750320</td>\n",
       "      <td>-73.978813</td>\n",
       "      <td>40.762032</td>\n",
       "      <td>N</td>\n",
       "      <td>808</td>\n",
       "      <td>3</td>\n",
       "      <td>Thursday</td>\n",
       "      <td>10</td>\n",
       "      <td>2016</td>\n",
       "      <td>3</td>\n",
       "      <td>Thursday</td>\n",
       "      <td>10</td>\n",
       "      <td>2016</td>\n",
       "    </tr>\n",
       "    <tr>\n",
       "      <th>112922</th>\n",
       "      <td>id3276089</td>\n",
       "      <td>2</td>\n",
       "      <td>2016-03-23 18:39:57</td>\n",
       "      <td>2016-03-23 19:01:06</td>\n",
       "      <td>1</td>\n",
       "      <td>-73.981850</td>\n",
       "      <td>40.773289</td>\n",
       "      <td>-73.978973</td>\n",
       "      <td>40.757240</td>\n",
       "      <td>N</td>\n",
       "      <td>1269</td>\n",
       "      <td>3</td>\n",
       "      <td>Wednesday</td>\n",
       "      <td>18</td>\n",
       "      <td>2016</td>\n",
       "      <td>3</td>\n",
       "      <td>Wednesday</td>\n",
       "      <td>19</td>\n",
       "      <td>2016</td>\n",
       "    </tr>\n",
       "  </tbody>\n",
       "</table>\n",
       "</div>"
      ],
      "text/plain": [
       "               id  vendor_id     pickup_datetime    dropoff_datetime  \\\n",
       "455488  id2898909          1 2016-03-03 10:30:21 2016-03-03 10:43:49   \n",
       "112922  id3276089          2 2016-03-23 18:39:57 2016-03-23 19:01:06   \n",
       "\n",
       "        passenger_count  pickup_longitude  pickup_latitude  dropoff_longitude  \\\n",
       "455488                1        -73.991409        40.750320         -73.978813   \n",
       "112922                1        -73.981850        40.773289         -73.978973   \n",
       "\n",
       "        dropoff_latitude store_and_fwd_flag  trip_duration  pickup_month  \\\n",
       "455488         40.762032                  N            808             3   \n",
       "112922         40.757240                  N           1269             3   \n",
       "\n",
       "       pickup_day_name  pickup_hour  pickup_year  dropoff_month  \\\n",
       "455488        Thursday           10         2016              3   \n",
       "112922       Wednesday           18         2016              3   \n",
       "\n",
       "       dropoff_day_name  dropoff_hour  dropoff_year  \n",
       "455488         Thursday            10          2016  \n",
       "112922        Wednesday            19          2016  "
      ]
     },
     "execution_count": 6,
     "metadata": {},
     "output_type": "execute_result"
    }
   ],
   "source": [
    "#visualising the new data\n",
    "\n",
    "df.head(2)"
   ]
  },
  {
   "cell_type": "markdown",
   "id": "09717866",
   "metadata": {},
   "source": [
    "# File structure and content"
   ]
  },
  {
   "cell_type": "code",
   "execution_count": 7,
   "id": "bffa18ad",
   "metadata": {},
   "outputs": [
    {
     "name": "stdout",
     "output_type": "stream",
     "text": [
      "<class 'pandas.core.frame.DataFrame'>\n",
      "Int64Index: 10000 entries, 455488 to 320851\n",
      "Data columns (total 19 columns):\n",
      " #   Column              Non-Null Count  Dtype         \n",
      "---  ------              --------------  -----         \n",
      " 0   id                  10000 non-null  object        \n",
      " 1   vendor_id           10000 non-null  int64         \n",
      " 2   pickup_datetime     10000 non-null  datetime64[ns]\n",
      " 3   dropoff_datetime    10000 non-null  datetime64[ns]\n",
      " 4   passenger_count     10000 non-null  int64         \n",
      " 5   pickup_longitude    10000 non-null  float64       \n",
      " 6   pickup_latitude     10000 non-null  float64       \n",
      " 7   dropoff_longitude   10000 non-null  float64       \n",
      " 8   dropoff_latitude    10000 non-null  float64       \n",
      " 9   store_and_fwd_flag  10000 non-null  object        \n",
      " 10  trip_duration       10000 non-null  int64         \n",
      " 11  pickup_month        10000 non-null  int64         \n",
      " 12  pickup_day_name     10000 non-null  object        \n",
      " 13  pickup_hour         10000 non-null  int64         \n",
      " 14  pickup_year         10000 non-null  int64         \n",
      " 15  dropoff_month       10000 non-null  int64         \n",
      " 16  dropoff_day_name    10000 non-null  object        \n",
      " 17  dropoff_hour        10000 non-null  int64         \n",
      " 18  dropoff_year        10000 non-null  int64         \n",
      "dtypes: datetime64[ns](2), float64(4), int64(9), object(4)\n",
      "memory usage: 1.5+ MB\n"
     ]
    }
   ],
   "source": [
    "#visualising data's metadata\n",
    "df.info()"
   ]
  },
  {
   "cell_type": "code",
   "execution_count": 8,
   "id": "371df8a0",
   "metadata": {},
   "outputs": [
    {
     "data": {
      "text/plain": [
       "id                            object\n",
       "vendor_id                      int64\n",
       "pickup_datetime       datetime64[ns]\n",
       "dropoff_datetime      datetime64[ns]\n",
       "passenger_count                int64\n",
       "pickup_longitude             float64\n",
       "pickup_latitude              float64\n",
       "dropoff_longitude            float64\n",
       "dropoff_latitude             float64\n",
       "store_and_fwd_flag            object\n",
       "trip_duration                  int64\n",
       "pickup_month                   int64\n",
       "pickup_day_name               object\n",
       "pickup_hour                    int64\n",
       "pickup_year                    int64\n",
       "dropoff_month                  int64\n",
       "dropoff_day_name              object\n",
       "dropoff_hour                   int64\n",
       "dropoff_year                   int64\n",
       "dtype: object"
      ]
     },
     "execution_count": 8,
     "metadata": {},
     "output_type": "execute_result"
    }
   ],
   "source": [
    "#check datatypes\n",
    "df.dtypes"
   ]
  },
  {
   "cell_type": "code",
   "execution_count": 9,
   "id": "1ae4715f",
   "metadata": {},
   "outputs": [
    {
     "data": {
      "text/plain": [
       "pandas.core.frame.DataFrame"
      ]
     },
     "execution_count": 9,
     "metadata": {},
     "output_type": "execute_result"
    }
   ],
   "source": [
    "#give the type of data structures used to store the data elements\n",
    "type(df)"
   ]
  },
  {
   "cell_type": "code",
   "execution_count": 10,
   "id": "e0c8a983",
   "metadata": {},
   "outputs": [
    {
     "data": {
      "text/plain": [
       "(10000, 19)"
      ]
     },
     "execution_count": 10,
     "metadata": {},
     "output_type": "execute_result"
    }
   ],
   "source": [
    "# to check the dimension of the data set, we can use the shape \n",
    "df.shape"
   ]
  },
  {
   "cell_type": "code",
   "execution_count": 11,
   "id": "eb35066f",
   "metadata": {},
   "outputs": [
    {
     "data": {
      "text/plain": [
       "Index(['id', 'vendor_id', 'pickup_datetime', 'dropoff_datetime',\n",
       "       'passenger_count', 'pickup_longitude', 'pickup_latitude',\n",
       "       'dropoff_longitude', 'dropoff_latitude', 'store_and_fwd_flag',\n",
       "       'trip_duration', 'pickup_month', 'pickup_day_name', 'pickup_hour',\n",
       "       'pickup_year', 'dropoff_month', 'dropoff_day_name', 'dropoff_hour',\n",
       "       'dropoff_year'],\n",
       "      dtype='object')"
      ]
     },
     "execution_count": 11,
     "metadata": {},
     "output_type": "execute_result"
    }
   ],
   "source": [
    "#printing all the columns in the table\n",
    "df.columns"
   ]
  },
  {
   "cell_type": "code",
   "execution_count": 12,
   "id": "46c2a4fc",
   "metadata": {},
   "outputs": [
    {
     "data": {
      "text/html": [
       "<div>\n",
       "<style scoped>\n",
       "    .dataframe tbody tr th:only-of-type {\n",
       "        vertical-align: middle;\n",
       "    }\n",
       "\n",
       "    .dataframe tbody tr th {\n",
       "        vertical-align: top;\n",
       "    }\n",
       "\n",
       "    .dataframe thead th {\n",
       "        text-align: right;\n",
       "    }\n",
       "</style>\n",
       "<table border=\"1\" class=\"dataframe\">\n",
       "  <thead>\n",
       "    <tr style=\"text-align: right;\">\n",
       "      <th></th>\n",
       "      <th>vendor_id</th>\n",
       "      <th>passenger_count</th>\n",
       "      <th>pickup_longitude</th>\n",
       "      <th>pickup_latitude</th>\n",
       "      <th>dropoff_longitude</th>\n",
       "      <th>dropoff_latitude</th>\n",
       "      <th>trip_duration</th>\n",
       "      <th>pickup_month</th>\n",
       "      <th>pickup_hour</th>\n",
       "      <th>pickup_year</th>\n",
       "      <th>dropoff_month</th>\n",
       "      <th>dropoff_hour</th>\n",
       "      <th>dropoff_year</th>\n",
       "    </tr>\n",
       "  </thead>\n",
       "  <tbody>\n",
       "    <tr>\n",
       "      <th>count</th>\n",
       "      <td>10000.000000</td>\n",
       "      <td>10000.000000</td>\n",
       "      <td>10000.000000</td>\n",
       "      <td>10000.000000</td>\n",
       "      <td>10000.000000</td>\n",
       "      <td>10000.000000</td>\n",
       "      <td>10000.000000</td>\n",
       "      <td>10000.000000</td>\n",
       "      <td>10000.000000</td>\n",
       "      <td>10000.0</td>\n",
       "      <td>10000.000000</td>\n",
       "      <td>10000.000000</td>\n",
       "      <td>10000.0</td>\n",
       "    </tr>\n",
       "    <tr>\n",
       "      <th>mean</th>\n",
       "      <td>1.535500</td>\n",
       "      <td>1.658400</td>\n",
       "      <td>-73.973127</td>\n",
       "      <td>40.751382</td>\n",
       "      <td>-73.973076</td>\n",
       "      <td>40.752170</td>\n",
       "      <td>904.907500</td>\n",
       "      <td>3.501900</td>\n",
       "      <td>13.618400</td>\n",
       "      <td>2016.0</td>\n",
       "      <td>3.502000</td>\n",
       "      <td>13.681500</td>\n",
       "      <td>2016.0</td>\n",
       "    </tr>\n",
       "    <tr>\n",
       "      <th>std</th>\n",
       "      <td>0.498763</td>\n",
       "      <td>1.317985</td>\n",
       "      <td>0.038408</td>\n",
       "      <td>0.028046</td>\n",
       "      <td>0.038463</td>\n",
       "      <td>0.032840</td>\n",
       "      <td>2612.311343</td>\n",
       "      <td>1.687744</td>\n",
       "      <td>6.458092</td>\n",
       "      <td>0.0</td>\n",
       "      <td>1.687804</td>\n",
       "      <td>6.513148</td>\n",
       "      <td>0.0</td>\n",
       "    </tr>\n",
       "    <tr>\n",
       "      <th>min</th>\n",
       "      <td>1.000000</td>\n",
       "      <td>1.000000</td>\n",
       "      <td>-74.177414</td>\n",
       "      <td>40.613640</td>\n",
       "      <td>-74.775429</td>\n",
       "      <td>40.364536</td>\n",
       "      <td>2.000000</td>\n",
       "      <td>1.000000</td>\n",
       "      <td>0.000000</td>\n",
       "      <td>2016.0</td>\n",
       "      <td>1.000000</td>\n",
       "      <td>0.000000</td>\n",
       "      <td>2016.0</td>\n",
       "    </tr>\n",
       "    <tr>\n",
       "      <th>25%</th>\n",
       "      <td>1.000000</td>\n",
       "      <td>1.000000</td>\n",
       "      <td>-73.991646</td>\n",
       "      <td>40.738005</td>\n",
       "      <td>-73.991119</td>\n",
       "      <td>40.736545</td>\n",
       "      <td>388.000000</td>\n",
       "      <td>2.000000</td>\n",
       "      <td>9.000000</td>\n",
       "      <td>2016.0</td>\n",
       "      <td>2.000000</td>\n",
       "      <td>9.000000</td>\n",
       "      <td>2016.0</td>\n",
       "    </tr>\n",
       "    <tr>\n",
       "      <th>50%</th>\n",
       "      <td>2.000000</td>\n",
       "      <td>1.000000</td>\n",
       "      <td>-73.981728</td>\n",
       "      <td>40.754747</td>\n",
       "      <td>-73.979675</td>\n",
       "      <td>40.754837</td>\n",
       "      <td>650.000000</td>\n",
       "      <td>4.000000</td>\n",
       "      <td>14.000000</td>\n",
       "      <td>2016.0</td>\n",
       "      <td>4.000000</td>\n",
       "      <td>14.000000</td>\n",
       "      <td>2016.0</td>\n",
       "    </tr>\n",
       "    <tr>\n",
       "      <th>75%</th>\n",
       "      <td>2.000000</td>\n",
       "      <td>2.000000</td>\n",
       "      <td>-73.967529</td>\n",
       "      <td>40.768501</td>\n",
       "      <td>-73.962475</td>\n",
       "      <td>40.770267</td>\n",
       "      <td>1071.000000</td>\n",
       "      <td>5.000000</td>\n",
       "      <td>19.000000</td>\n",
       "      <td>2016.0</td>\n",
       "      <td>5.000000</td>\n",
       "      <td>19.000000</td>\n",
       "      <td>2016.0</td>\n",
       "    </tr>\n",
       "    <tr>\n",
       "      <th>max</th>\n",
       "      <td>2.000000</td>\n",
       "      <td>6.000000</td>\n",
       "      <td>-73.755676</td>\n",
       "      <td>40.882648</td>\n",
       "      <td>-72.954590</td>\n",
       "      <td>40.964970</td>\n",
       "      <td>86329.000000</td>\n",
       "      <td>6.000000</td>\n",
       "      <td>23.000000</td>\n",
       "      <td>2016.0</td>\n",
       "      <td>6.000000</td>\n",
       "      <td>23.000000</td>\n",
       "      <td>2016.0</td>\n",
       "    </tr>\n",
       "  </tbody>\n",
       "</table>\n",
       "</div>"
      ],
      "text/plain": [
       "          vendor_id  passenger_count  pickup_longitude  pickup_latitude  \\\n",
       "count  10000.000000     10000.000000      10000.000000     10000.000000   \n",
       "mean       1.535500         1.658400        -73.973127        40.751382   \n",
       "std        0.498763         1.317985          0.038408         0.028046   \n",
       "min        1.000000         1.000000        -74.177414        40.613640   \n",
       "25%        1.000000         1.000000        -73.991646        40.738005   \n",
       "50%        2.000000         1.000000        -73.981728        40.754747   \n",
       "75%        2.000000         2.000000        -73.967529        40.768501   \n",
       "max        2.000000         6.000000        -73.755676        40.882648   \n",
       "\n",
       "       dropoff_longitude  dropoff_latitude  trip_duration  pickup_month  \\\n",
       "count       10000.000000      10000.000000   10000.000000  10000.000000   \n",
       "mean          -73.973076         40.752170     904.907500      3.501900   \n",
       "std             0.038463          0.032840    2612.311343      1.687744   \n",
       "min           -74.775429         40.364536       2.000000      1.000000   \n",
       "25%           -73.991119         40.736545     388.000000      2.000000   \n",
       "50%           -73.979675         40.754837     650.000000      4.000000   \n",
       "75%           -73.962475         40.770267    1071.000000      5.000000   \n",
       "max           -72.954590         40.964970   86329.000000      6.000000   \n",
       "\n",
       "        pickup_hour  pickup_year  dropoff_month  dropoff_hour  dropoff_year  \n",
       "count  10000.000000      10000.0   10000.000000  10000.000000       10000.0  \n",
       "mean      13.618400       2016.0       3.502000     13.681500        2016.0  \n",
       "std        6.458092          0.0       1.687804      6.513148           0.0  \n",
       "min        0.000000       2016.0       1.000000      0.000000        2016.0  \n",
       "25%        9.000000       2016.0       2.000000      9.000000        2016.0  \n",
       "50%       14.000000       2016.0       4.000000     14.000000        2016.0  \n",
       "75%       19.000000       2016.0       5.000000     19.000000        2016.0  \n",
       "max       23.000000       2016.0       6.000000     23.000000        2016.0  "
      ]
     },
     "execution_count": 12,
     "metadata": {},
     "output_type": "execute_result"
    }
   ],
   "source": [
    "# check statistics of the features\n",
    "df.describe()"
   ]
  },
  {
   "cell_type": "code",
   "execution_count": 13,
   "id": "b85befa5",
   "metadata": {},
   "outputs": [
    {
     "name": "stdout",
     "output_type": "stream",
     "text": [
      "id                              id3999392\n",
      "vendor_id                               2\n",
      "pickup_datetime       2016-06-30 23:35:08\n",
      "dropoff_datetime      2016-06-30 23:37:17\n",
      "passenger_count                         6\n",
      "pickup_longitude               -73.755676\n",
      "pickup_latitude                 40.882648\n",
      "dropoff_longitude               -72.95459\n",
      "dropoff_latitude                 40.96497\n",
      "store_and_fwd_flag                      Y\n",
      "trip_duration                       86329\n",
      "pickup_month                            6\n",
      "pickup_day_name                 Wednesday\n",
      "pickup_hour                            23\n",
      "pickup_year                          2016\n",
      "dropoff_month                           6\n",
      "dropoff_day_name                Wednesday\n",
      "dropoff_hour                           23\n",
      "dropoff_year                         2016\n",
      "dtype: object\n"
     ]
    }
   ],
   "source": [
    "# find the maximum of each column\n",
    "maxValues = df.max()\n",
    " \n",
    "print(maxValues)"
   ]
  },
  {
   "cell_type": "code",
   "execution_count": 14,
   "id": "4e288616",
   "metadata": {},
   "outputs": [
    {
     "name": "stdout",
     "output_type": "stream",
     "text": [
      "id                              id0000155\n",
      "vendor_id                               1\n",
      "pickup_datetime       2016-01-01 00:58:58\n",
      "dropoff_datetime      2016-01-01 01:21:44\n",
      "passenger_count                         1\n",
      "pickup_longitude               -74.177414\n",
      "pickup_latitude                  40.61364\n",
      "dropoff_longitude              -74.775429\n",
      "dropoff_latitude                40.364536\n",
      "store_and_fwd_flag                      N\n",
      "trip_duration                           2\n",
      "pickup_month                            1\n",
      "pickup_day_name                    Friday\n",
      "pickup_hour                             0\n",
      "pickup_year                          2016\n",
      "dropoff_month                           1\n",
      "dropoff_day_name                   Friday\n",
      "dropoff_hour                            0\n",
      "dropoff_year                         2016\n",
      "dtype: object\n"
     ]
    }
   ],
   "source": [
    "# find the minimum of each column\n",
    "minValues = df.min()\n",
    " \n",
    "print(minValues)"
   ]
  },
  {
   "cell_type": "code",
   "execution_count": 15,
   "id": "449c5f2e",
   "metadata": {},
   "outputs": [],
   "source": [
    "#afer analysing the statistics description and max min values:\n",
    "#passenger count = 0,pickup_hour = 0,dropoff_hour = 0,is outliers\n",
    "#removing outliers\n",
    "\n",
    "df = df[((df['passenger_count'] > 0) & \n",
    "           (df['pickup_hour'] > 0)) &\n",
    "        ((df['dropoff_hour'] > 0))]"
   ]
  },
  {
   "cell_type": "code",
   "execution_count": 16,
   "id": "17944d0c",
   "metadata": {},
   "outputs": [
    {
     "data": {
      "text/html": [
       "<div>\n",
       "<style scoped>\n",
       "    .dataframe tbody tr th:only-of-type {\n",
       "        vertical-align: middle;\n",
       "    }\n",
       "\n",
       "    .dataframe tbody tr th {\n",
       "        vertical-align: top;\n",
       "    }\n",
       "\n",
       "    .dataframe thead th {\n",
       "        text-align: right;\n",
       "    }\n",
       "</style>\n",
       "<table border=\"1\" class=\"dataframe\">\n",
       "  <thead>\n",
       "    <tr style=\"text-align: right;\">\n",
       "      <th></th>\n",
       "      <th>vendor_id</th>\n",
       "      <th>passenger_count</th>\n",
       "      <th>pickup_longitude</th>\n",
       "      <th>pickup_latitude</th>\n",
       "      <th>dropoff_longitude</th>\n",
       "      <th>dropoff_latitude</th>\n",
       "      <th>trip_duration</th>\n",
       "      <th>pickup_month</th>\n",
       "      <th>pickup_hour</th>\n",
       "      <th>pickup_year</th>\n",
       "      <th>dropoff_month</th>\n",
       "      <th>dropoff_hour</th>\n",
       "      <th>dropoff_year</th>\n",
       "    </tr>\n",
       "  </thead>\n",
       "  <tbody>\n",
       "    <tr>\n",
       "      <th>count</th>\n",
       "      <td>9554.000000</td>\n",
       "      <td>9554.000000</td>\n",
       "      <td>9554.000000</td>\n",
       "      <td>9554.000000</td>\n",
       "      <td>9554.000000</td>\n",
       "      <td>9554.000000</td>\n",
       "      <td>9554.000000</td>\n",
       "      <td>9554.000000</td>\n",
       "      <td>9554.000000</td>\n",
       "      <td>9554.0</td>\n",
       "      <td>9554.000000</td>\n",
       "      <td>9554.000000</td>\n",
       "      <td>9554.0</td>\n",
       "    </tr>\n",
       "    <tr>\n",
       "      <th>mean</th>\n",
       "      <td>1.534436</td>\n",
       "      <td>1.654804</td>\n",
       "      <td>-73.973291</td>\n",
       "      <td>40.752003</td>\n",
       "      <td>-73.973152</td>\n",
       "      <td>40.752405</td>\n",
       "      <td>897.901612</td>\n",
       "      <td>3.497802</td>\n",
       "      <td>14.090433</td>\n",
       "      <td>2016.0</td>\n",
       "      <td>3.497802</td>\n",
       "      <td>14.311911</td>\n",
       "      <td>2016.0</td>\n",
       "    </tr>\n",
       "    <tr>\n",
       "      <th>std</th>\n",
       "      <td>0.498839</td>\n",
       "      <td>1.318191</td>\n",
       "      <td>0.037643</td>\n",
       "      <td>0.027660</td>\n",
       "      <td>0.038500</td>\n",
       "      <td>0.032269</td>\n",
       "      <td>2530.912134</td>\n",
       "      <td>1.686159</td>\n",
       "      <td>5.955362</td>\n",
       "      <td>0.0</td>\n",
       "      <td>1.686159</td>\n",
       "      <td>5.956773</td>\n",
       "      <td>0.0</td>\n",
       "    </tr>\n",
       "    <tr>\n",
       "      <th>min</th>\n",
       "      <td>1.000000</td>\n",
       "      <td>1.000000</td>\n",
       "      <td>-74.177414</td>\n",
       "      <td>40.613640</td>\n",
       "      <td>-74.775429</td>\n",
       "      <td>40.364536</td>\n",
       "      <td>2.000000</td>\n",
       "      <td>1.000000</td>\n",
       "      <td>1.000000</td>\n",
       "      <td>2016.0</td>\n",
       "      <td>1.000000</td>\n",
       "      <td>1.000000</td>\n",
       "      <td>2016.0</td>\n",
       "    </tr>\n",
       "    <tr>\n",
       "      <th>25%</th>\n",
       "      <td>1.000000</td>\n",
       "      <td>1.000000</td>\n",
       "      <td>-73.991560</td>\n",
       "      <td>40.738634</td>\n",
       "      <td>-73.991089</td>\n",
       "      <td>40.737137</td>\n",
       "      <td>386.000000</td>\n",
       "      <td>2.000000</td>\n",
       "      <td>10.000000</td>\n",
       "      <td>2016.0</td>\n",
       "      <td>2.000000</td>\n",
       "      <td>10.000000</td>\n",
       "      <td>2016.0</td>\n",
       "    </tr>\n",
       "    <tr>\n",
       "      <th>50%</th>\n",
       "      <td>2.000000</td>\n",
       "      <td>1.000000</td>\n",
       "      <td>-73.981499</td>\n",
       "      <td>40.755373</td>\n",
       "      <td>-73.979675</td>\n",
       "      <td>40.755079</td>\n",
       "      <td>647.500000</td>\n",
       "      <td>3.000000</td>\n",
       "      <td>15.000000</td>\n",
       "      <td>2016.0</td>\n",
       "      <td>3.000000</td>\n",
       "      <td>15.000000</td>\n",
       "      <td>2016.0</td>\n",
       "    </tr>\n",
       "    <tr>\n",
       "      <th>75%</th>\n",
       "      <td>2.000000</td>\n",
       "      <td>2.000000</td>\n",
       "      <td>-73.967409</td>\n",
       "      <td>40.768838</td>\n",
       "      <td>-73.962748</td>\n",
       "      <td>40.770365</td>\n",
       "      <td>1061.000000</td>\n",
       "      <td>5.000000</td>\n",
       "      <td>19.000000</td>\n",
       "      <td>2016.0</td>\n",
       "      <td>5.000000</td>\n",
       "      <td>19.000000</td>\n",
       "      <td>2016.0</td>\n",
       "    </tr>\n",
       "    <tr>\n",
       "      <th>max</th>\n",
       "      <td>2.000000</td>\n",
       "      <td>6.000000</td>\n",
       "      <td>-73.755676</td>\n",
       "      <td>40.882648</td>\n",
       "      <td>-72.954590</td>\n",
       "      <td>40.963531</td>\n",
       "      <td>86329.000000</td>\n",
       "      <td>6.000000</td>\n",
       "      <td>23.000000</td>\n",
       "      <td>2016.0</td>\n",
       "      <td>6.000000</td>\n",
       "      <td>23.000000</td>\n",
       "      <td>2016.0</td>\n",
       "    </tr>\n",
       "  </tbody>\n",
       "</table>\n",
       "</div>"
      ],
      "text/plain": [
       "         vendor_id  passenger_count  pickup_longitude  pickup_latitude  \\\n",
       "count  9554.000000      9554.000000       9554.000000      9554.000000   \n",
       "mean      1.534436         1.654804        -73.973291        40.752003   \n",
       "std       0.498839         1.318191          0.037643         0.027660   \n",
       "min       1.000000         1.000000        -74.177414        40.613640   \n",
       "25%       1.000000         1.000000        -73.991560        40.738634   \n",
       "50%       2.000000         1.000000        -73.981499        40.755373   \n",
       "75%       2.000000         2.000000        -73.967409        40.768838   \n",
       "max       2.000000         6.000000        -73.755676        40.882648   \n",
       "\n",
       "       dropoff_longitude  dropoff_latitude  trip_duration  pickup_month  \\\n",
       "count        9554.000000       9554.000000    9554.000000   9554.000000   \n",
       "mean          -73.973152         40.752405     897.901612      3.497802   \n",
       "std             0.038500          0.032269    2530.912134      1.686159   \n",
       "min           -74.775429         40.364536       2.000000      1.000000   \n",
       "25%           -73.991089         40.737137     386.000000      2.000000   \n",
       "50%           -73.979675         40.755079     647.500000      3.000000   \n",
       "75%           -73.962748         40.770365    1061.000000      5.000000   \n",
       "max           -72.954590         40.963531   86329.000000      6.000000   \n",
       "\n",
       "       pickup_hour  pickup_year  dropoff_month  dropoff_hour  dropoff_year  \n",
       "count  9554.000000       9554.0    9554.000000   9554.000000        9554.0  \n",
       "mean     14.090433       2016.0       3.497802     14.311911        2016.0  \n",
       "std       5.955362          0.0       1.686159      5.956773           0.0  \n",
       "min       1.000000       2016.0       1.000000      1.000000        2016.0  \n",
       "25%      10.000000       2016.0       2.000000     10.000000        2016.0  \n",
       "50%      15.000000       2016.0       3.000000     15.000000        2016.0  \n",
       "75%      19.000000       2016.0       5.000000     19.000000        2016.0  \n",
       "max      23.000000       2016.0       6.000000     23.000000        2016.0  "
      ]
     },
     "execution_count": 16,
     "metadata": {},
     "output_type": "execute_result"
    }
   ],
   "source": [
    "#Analysing change in data\n",
    "\n",
    "df.describe()"
   ]
  },
  {
   "cell_type": "markdown",
   "id": "66576652",
   "metadata": {},
   "source": [
    "# Missing values"
   ]
  },
  {
   "cell_type": "code",
   "execution_count": 17,
   "id": "c07949f4",
   "metadata": {},
   "outputs": [
    {
     "data": {
      "text/plain": [
       "id                    0\n",
       "vendor_id             0\n",
       "pickup_datetime       0\n",
       "dropoff_datetime      0\n",
       "passenger_count       0\n",
       "pickup_longitude      0\n",
       "pickup_latitude       0\n",
       "dropoff_longitude     0\n",
       "dropoff_latitude      0\n",
       "store_and_fwd_flag    0\n",
       "trip_duration         0\n",
       "pickup_month          0\n",
       "pickup_day_name       0\n",
       "pickup_hour           0\n",
       "pickup_year           0\n",
       "dropoff_month         0\n",
       "dropoff_day_name      0\n",
       "dropoff_hour          0\n",
       "dropoff_year          0\n",
       "dtype: int64"
      ]
     },
     "execution_count": 17,
     "metadata": {},
     "output_type": "execute_result"
    }
   ],
   "source": [
    "#checking for null values\n",
    "\n",
    "df.isnull().sum()"
   ]
  },
  {
   "cell_type": "markdown",
   "id": "782aabc6",
   "metadata": {},
   "source": [
    "# Target Exploration"
   ]
  },
  {
   "cell_type": "code",
   "execution_count": 18,
   "id": "04927120",
   "metadata": {},
   "outputs": [
    {
     "data": {
      "image/png": "[encoded data removed]",
      "text/plain": [
       "<Figure size 864x360 with 1 Axes>"
      ]
     },
     "metadata": {
      "needs_background": "light"
     },
     "output_type": "display_data"
    }
   ],
   "source": [
    "#visualising target variable\n",
    "plt.figure(figsize = (12,5))\n",
    "n,bins,patches = plt.hist(df.trip_duration, 1000, facecolor='blue', alpha=0.75)\n",
    "plt.xlabel('trip_duration',fontsize=15,fontweight='bold')\n",
    "plt.title('Histogram of trip_duration',fontsize=25,fontweight='bold')\n",
    "plt.xlim(0, 3000)\n",
    "plt.show();"
   ]
  },
  {
   "cell_type": "code",
   "execution_count": 19,
   "id": "bbad82f8",
   "metadata": {},
   "outputs": [
    {
     "data": {
      "image/png": "[encoded data removed]",
      "text/plain": [
       "<Figure size 576x360 with 1 Axes>"
      ]
     },
     "metadata": {
      "needs_background": "light"
     },
     "output_type": "display_data"
    }
   ],
   "source": [
    "plt.figure(figsize=(8,5))\n",
    "sns.kdeplot(np.log(df['trip_duration'].values)).set_title((\"distribution of Trip Duration\"),fontsize=15,fontweight='bold');"
   ]
  },
  {
   "cell_type": "code",
   "execution_count": 20,
   "id": "5e512286",
   "metadata": {},
   "outputs": [
    {
     "data": {
      "text/plain": [
       "357    0.002617\n",
       "614    0.001989\n",
       "274    0.001884\n",
       "287    0.001884\n",
       "520    0.001884\n",
       "Name: trip_duration, dtype: float64"
      ]
     },
     "execution_count": 20,
     "metadata": {},
     "output_type": "execute_result"
    }
   ],
   "source": [
    "#Analysing top 5 trip_duration\n",
    "df['trip_duration'].value_counts(normalize=True).iloc[:5]"
   ]
  },
  {
   "cell_type": "markdown",
   "id": "5172945e",
   "metadata": {},
   "source": [
    "# Univariate Visualization"
   ]
  },
  {
   "cell_type": "code",
   "execution_count": 21,
   "id": "a687621c",
   "metadata": {},
   "outputs": [
    {
     "data": {
      "text/plain": [
       "Text(0, 0.5, 'count')"
      ]
     },
     "execution_count": 21,
     "metadata": {},
     "output_type": "execute_result"
    },
    {
     "data": {
      "image/png": "[encoded data removed]",
      "text/plain": [
       "<Figure size 720x432 with 1 Axes>"
      ]
     },
     "metadata": {
      "needs_background": "light"
     },
     "output_type": "display_data"
    }
   ],
   "source": [
    "#Passenger Count\n",
    "plt.figure(figsize=(10,6))\n",
    "df['passenger_count'].value_counts().plot.bar(color= 'y', edgecolor ='k');\n",
    "plt.title('Histogram of passenger counts',fontsize=25,fontweight='bold')\n",
    "plt.xlabel('passenger_count',fontsize=25,fontweight='bold')\n",
    "plt.ylabel('count',fontsize=25,fontweight='bold')"
   ]
  },
  {
   "cell_type": "code",
   "execution_count": 22,
   "id": "e66decd6",
   "metadata": {},
   "outputs": [
    {
     "data": {
      "text/plain": [
       "Text(0, 0.5, 'count')"
      ]
     },
     "execution_count": 22,
     "metadata": {},
     "output_type": "execute_result"
    },
    {
     "data": {
      "image/png": "[encoded data removed]",
      "text/plain": [
       "<Figure size 720x432 with 1 Axes>"
      ]
     },
     "metadata": {
      "needs_background": "light"
     },
     "output_type": "display_data"
    }
   ],
   "source": [
    "#total pickups in weekdays\n",
    "\n",
    "plt.figure(figsize=(10,6))\n",
    "df['pickup_day_name'].value_counts().plot.bar(color= 'y', edgecolor ='k');\n",
    "plt.title('Total Pickups in Weekdays',fontsize=25,fontweight='bold')\n",
    "plt.xlabel('Pickups in Weekdays',fontsize=25,fontweight='bold')\n",
    "plt.ylabel('count',fontsize=25,fontweight='bold')"
   ]
  },
  {
   "cell_type": "code",
   "execution_count": 23,
   "id": "e7327f35",
   "metadata": {},
   "outputs": [
    {
     "data": {
      "text/plain": [
       "Text(0, 0.5, 'count')"
      ]
     },
     "execution_count": 23,
     "metadata": {},
     "output_type": "execute_result"
    },
    {
     "data": {
      "image/png": "[encoded data removed]",
      "text/plain": [
       "<Figure size 720x432 with 1 Axes>"
      ]
     },
     "metadata": {
      "needs_background": "light"
     },
     "output_type": "display_data"
    }
   ],
   "source": [
    "#total pickups hours\n",
    "\n",
    "plt.figure(figsize=(10,6))\n",
    "df['pickup_hour'].value_counts().plot.bar(color= 'y', edgecolor ='k');\n",
    "plt.title('Total Pickup Hours',fontsize=25,fontweight='bold')\n",
    "plt.xlabel('total pickups hours',fontsize=25,fontweight='bold')\n",
    "plt.ylabel('count',fontsize=25,fontweight='bold')"
   ]
  },
  {
   "cell_type": "markdown",
   "id": "b1bc98eb",
   "metadata": {},
   "source": [
    "# Correlation Heatmap"
   ]
  },
  {
   "cell_type": "code",
   "execution_count": 24,
   "id": "c4afb05c",
   "metadata": {},
   "outputs": [
    {
     "data": {
      "text/plain": [
       "<AxesSubplot:>"
      ]
     },
     "execution_count": 24,
     "metadata": {},
     "output_type": "execute_result"
    },
    {
     "data": {
      "image/png": "[encoded data removed]",
      "text/plain": [
       "<Figure size 1440x720 with 2 Axes>"
      ]
     },
     "metadata": {
      "needs_background": "light"
     },
     "output_type": "display_data"
    }
   ],
   "source": [
    "#Correlation of all the colums\n",
    "\n",
    "cor = df.corr()\n",
    "mask = np.array(cor)\n",
    "mask[np.tril_indices_from(mask)] = False\n",
    "fig,ax= plt.subplots()\n",
    "fig.set_size_inches(20,10)\n",
    "sns.heatmap(cor,mask= mask,square=True,annot=True)"
   ]
  },
  {
   "cell_type": "markdown",
   "id": "31838f64",
   "metadata": {},
   "source": [
    "# Sorting trip hours "
   ]
  },
  {
   "cell_type": "code",
   "execution_count": 25,
   "id": "9ca1e5b0",
   "metadata": {},
   "outputs": [],
   "source": [
    "#ANALYSIS : From the above graphs we know the busiest weekday:Friday & busiest hours are: 6pm to 10pm\n",
    "\n",
    "#Creating a new column according to the traffic scenerio of New York\n",
    "\n",
    "def rush_hour(hour):\n",
    "    if hour.item()>=7 and hour.item()<=9:\n",
    "        return 'rush_hour_morning(7-9)'\n",
    "    elif hour.item()>9 and hour.item()<16:\n",
    "        return 'normal_hour_afternoon(9-16)'\n",
    "    elif hour.item()>=16 and hour.item()<=19:\n",
    "        return 'rush_hour_evening(18-22)'\n",
    "    elif hour.item()>19 and hour.item()<=22:\n",
    "        return 'normal_hour_evening(19-22)'\n",
    "    else:\n",
    "        return 'latenight(22 onwards)'\n",
    "df['traffic_scenerio_pickup']=df[['pickup_hour']].apply(rush_hour, axis=1)\n",
    "df['traffic_scenerio_dropoff']=df[['dropoff_hour']].apply(rush_hour, axis=1)"
   ]
  },
  {
   "cell_type": "code",
   "execution_count": 26,
   "id": "2b443a30",
   "metadata": {},
   "outputs": [
    {
     "data": {
      "image/png": "[encoded data removed]",
      "text/plain": [
       "<Figure size 1440x360 with 2 Axes>"
      ]
     },
     "metadata": {
      "needs_background": "light"
     },
     "output_type": "display_data"
    }
   ],
   "source": [
    "#Plotting pickup and dropoff trip distribution as per traffic scenerio\n",
    "figure,ax=plt.subplots(nrows=1,ncols=2,figsize=(20,5))\n",
    "sns.countplot(x='traffic_scenerio_pickup',data=df,ax=ax[0])\n",
    "ax[0].set_title('The distribution of number of pickups as per traffics scenerio')\n",
    "sns.countplot(x='traffic_scenerio_dropoff',data=df,ax=ax[1])\n",
    "ax[1].set_title('The distribution of number of dropoffs as per traffics scenerio')\n",
    "plt.tight_layout()"
   ]
  },
  {
   "cell_type": "code",
   "execution_count": 27,
   "id": "1232be41",
   "metadata": {},
   "outputs": [
    {
     "data": {
      "text/plain": [
       "Text(0.5, 1.0, 'The distribution of of the Pick Up  Duration distribution')"
      ]
     },
     "execution_count": 27,
     "metadata": {},
     "output_type": "execute_result"
    },
    {
     "data": {
      "image/png": "[encoded data removed]",
      "text/plain": [
       "<Figure size 432x288 with 1 Axes>"
      ]
     },
     "metadata": {
      "needs_background": "light"
     },
     "output_type": "display_data"
    }
   ],
   "source": [
    "sns.distplot(df['trip_duration'],kde=True)\n",
    "plt.title('The distribution of of the Pick Up  Duration distribution')"
   ]
  },
  {
   "cell_type": "markdown",
   "id": "290fb97f",
   "metadata": {},
   "source": [
    "This histogram shows extreme right skewness, hence there are outliers. Lets see the boxplot of this variable"
   ]
  },
  {
   "cell_type": "code",
   "execution_count": 28,
   "id": "62f8f079",
   "metadata": {},
   "outputs": [
    {
     "data": {
      "text/plain": [
       "Text(0.5, 1.0, 'A boxplot depicting the pickup duration distribution')"
      ]
     },
     "execution_count": 28,
     "metadata": {},
     "output_type": "execute_result"
    },
    {
     "data": {
      "image/png": "[encoded data removed]",
      "text/plain": [
       "<Figure size 432x288 with 1 Axes>"
      ]
     },
     "metadata": {
      "needs_background": "light"
     },
     "output_type": "display_data"
    }
   ],
   "source": [
    "sns.boxplot(df['trip_duration'], orient='horizontal')\n",
    "plt.title('A boxplot depicting the pickup duration distribution')"
   ]
  },
  {
   "cell_type": "markdown",
   "id": "bd6c08d9",
   "metadata": {},
   "source": [
    "We can see there are few outliers, which we have to treat."
   ]
  },
  {
   "cell_type": "code",
   "execution_count": 29,
   "id": "ddc9ffaa",
   "metadata": {},
   "outputs": [],
   "source": [
    "#Dropping trip_duration <1 min\n",
    "df= df[df.trip_duration>60] # >1 min\n",
    "\n",
    "#Dropping trip_duration >2 Hrs\n",
    "df= df[df.trip_duration<=7200] # >2 hrs"
   ]
  },
  {
   "cell_type": "markdown",
   "id": "0e2a5f13",
   "metadata": {},
   "source": [
    "Removed trip duration of less than 1 min and greater than 2 hrs as its not looking sensible that one can hire taxi for less than a min or more that 2 hrs in a city like New York!"
   ]
  },
  {
   "cell_type": "code",
   "execution_count": 30,
   "id": "9d32f417",
   "metadata": {},
   "outputs": [
    {
     "data": {
      "text/plain": [
       "<AxesSubplot:xlabel='vendor_id', ylabel='count'>"
      ]
     },
     "execution_count": 30,
     "metadata": {},
     "output_type": "execute_result"
    },
    {
     "data": {
      "image/png": "[encoded data removed]",
      "text/plain": [
       "<Figure size 432x288 with 1 Axes>"
      ]
     },
     "metadata": {
      "needs_background": "light"
     },
     "output_type": "display_data"
    }
   ],
   "source": [
    "#Distribution of vendor_id\n",
    "\n",
    "sns.countplot(x='vendor_id',data=df)"
   ]
  },
  {
   "cell_type": "markdown",
   "id": "ce406b36",
   "metadata": {},
   "source": [
    "Distribution of vendor ID is ok"
   ]
  },
  {
   "cell_type": "markdown",
   "id": "c9bfed5d",
   "metadata": {},
   "source": [
    "# Using haversine formula to calculate distance"
   ]
  },
  {
   "cell_type": "code",
   "execution_count": 31,
   "id": "732e7e8b",
   "metadata": {},
   "outputs": [],
   "source": [
    "#The borders of NY City, in coordinates comes out to be: city_long_border = (-74.03, -73.75) & city_lat_border = (40.63, 40.85)\n",
    "#Comparing this to our 'df_taxi.describe()' output we see that there are some coordinate points (pick ups/drop offs) that fall outside these borders. So let's limit our area of investigation to within the NY City borders.\n",
    "\n",
    "df = df[df['pickup_longitude'] <= -73.75]\n",
    "df = df[df['pickup_longitude'] >= -74.03]\n",
    "df = df[df['pickup_latitude'] <= 40.85]\n",
    "df = df[df['pickup_latitude'] >= 40.63]\n",
    "df = df[df['dropoff_longitude'] <= -73.75]\n",
    "df = df[df['dropoff_longitude'] >= -74.03]\n",
    "df = df[df['dropoff_latitude'] <= 40.85]\n",
    "df = df[df['dropoff_latitude'] >= 40.63]"
   ]
  },
  {
   "cell_type": "code",
   "execution_count": 32,
   "id": "69df1ee3",
   "metadata": {},
   "outputs": [],
   "source": [
    "#Getting distance(in km) from geographocal co-ordinates\n",
    "from math import radians, sin, cos, sqrt, asin\n",
    "def haversine(columns):\n",
    "    lat1, lon1, lat2, lon2 = columns\n",
    "    R = 6372.8 # Earth radius in kilometers\n",
    "    \n",
    "    dLat = radians(lat2 - lat1)\n",
    "    dLon = radians(lon2 - lon1)\n",
    "    lat1 = radians(lat1)\n",
    "    lat2 = radians(lat2)\n",
    "    \n",
    "    a = sin(dLat/2)**2 + cos(lat1)*cos(lat2)*sin(dLon/2)**2\n",
    "    c = 2*asin(sqrt(a))\n",
    "    \n",
    "    return R * c\n",
    "\n",
    "cols = ['pickup_latitude','pickup_longitude','dropoff_latitude','dropoff_longitude']\n",
    "distances = df[cols].apply(lambda x: haversine(x),axis = 1)\n",
    "df['distance_km'] = distances.copy()\n",
    "df['distance_km'] = round(df.distance_km,2)"
   ]
  },
  {
   "cell_type": "code",
   "execution_count": 33,
   "id": "9ae5d381",
   "metadata": {},
   "outputs": [
    {
     "data": {
      "text/plain": [
       "<AxesSubplot:xlabel='distance_km', ylabel='trip_duration'>"
      ]
     },
     "execution_count": 33,
     "metadata": {},
     "output_type": "execute_result"
    },
    {
     "data": {
      "image/png": "[encoded data removed]",
      "text/plain": [
       "<Figure size 432x288 with 1 Axes>"
      ]
     },
     "metadata": {
      "needs_background": "light"
     },
     "output_type": "display_data"
    }
   ],
   "source": [
    "sns.scatterplot(x='distance_km',y='trip_duration',data=df)"
   ]
  },
  {
   "cell_type": "code",
   "execution_count": 34,
   "id": "5f5ec8ae",
   "metadata": {},
   "outputs": [],
   "source": [
    "#Removing distance Outliers\n",
    "df = df[df['distance_km'] > 0]"
   ]
  },
  {
   "cell_type": "code",
   "execution_count": 35,
   "id": "e4afb882",
   "metadata": {},
   "outputs": [],
   "source": [
    "#Getting Speed(Km/h) of the taxi \n",
    "#3600 to convert it from km/s to km/h\n",
    "\n",
    "df['speed_km/h']= 3600*(df.distance_km/df.trip_duration)  "
   ]
  },
  {
   "cell_type": "code",
   "execution_count": 36,
   "id": "ed4e310a",
   "metadata": {},
   "outputs": [
    {
     "name": "stdout",
     "output_type": "stream",
     "text": [
      "Distance Bounds: 0.01 to 25.14\n",
      "Speed Bounds: 0.03130434782608696 to 142.87733887733887\n"
     ]
    }
   ],
   "source": [
    "#Checking Distance and Speed range\n",
    "\n",
    "print('Distance Bounds: {} to {}'.format(df.distance_km.min(),df.distance_km.max()))\n",
    "print('Speed Bounds: {} to {}'.format(df['speed_km/h'].min(),df['speed_km/h'].max()))"
   ]
  },
  {
   "cell_type": "markdown",
   "id": "17f69096",
   "metadata": {},
   "source": [
    "now time can be calculated as: time = distance/speed"
   ]
  },
  {
   "cell_type": "code",
   "execution_count": 37,
   "id": "84e4c00d",
   "metadata": {},
   "outputs": [],
   "source": [
    "#Removing speed Outliers\n",
    "df = df[df['speed_km/h'] > 0]\n",
    "df = df[df['speed_km/h'] < 100]"
   ]
  },
  {
   "cell_type": "code",
   "execution_count": 38,
   "id": "eada45cd",
   "metadata": {},
   "outputs": [
    {
     "data": {
      "text/plain": [
       "1    6699\n",
       "2    1259\n",
       "5     501\n",
       "3     363\n",
       "6     316\n",
       "4     189\n",
       "Name: passenger_count, dtype: int64"
      ]
     },
     "execution_count": 38,
     "metadata": {},
     "output_type": "execute_result"
    }
   ],
   "source": [
    "#checking passenger counts\n",
    "df['passenger_count'].value_counts()"
   ]
  },
  {
   "cell_type": "code",
   "execution_count": 39,
   "id": "16052c88",
   "metadata": {},
   "outputs": [
    {
     "data": {
      "image/png": "[encoded data removed]",
      "text/plain": [
       "<Figure size 720x432 with 1 Axes>"
      ]
     },
     "metadata": {
      "needs_background": "light"
     },
     "output_type": "display_data"
    }
   ],
   "source": [
    "#Plotting Trip Distribution\n",
    "plt.figure(figsize=(10,6))\n",
    "plt.hist(df.trip_duration, bins=100)\n",
    "plt.xlabel('Trip_duration')\n",
    "plt.ylabel('Number of Trips')\n",
    "plt.title('Trip Distribution')\n",
    "plt.show()"
   ]
  },
  {
   "cell_type": "markdown",
   "id": "6c755c85",
   "metadata": {},
   "source": [
    "Right skewed"
   ]
  },
  {
   "cell_type": "code",
   "execution_count": 40,
   "id": "1c1f1d84",
   "metadata": {},
   "outputs": [
    {
     "data": {
      "image/png": "[encoded data removed]",
      "text/plain": [
       "<Figure size 432x288 with 1 Axes>"
      ]
     },
     "metadata": {
      "needs_background": "light"
     },
     "output_type": "display_data"
    },
    {
     "data": {
      "text/plain": [
       "<AxesSubplot:xlabel='log_trip_duration'>"
      ]
     },
     "execution_count": 40,
     "metadata": {},
     "output_type": "execute_result"
    },
    {
     "data": {
      "image/png": "[encoded data removed]",
      "text/plain": [
       "<Figure size 432x288 with 1 Axes>"
      ]
     },
     "metadata": {
      "needs_background": "light"
     },
     "output_type": "display_data"
    }
   ],
   "source": [
    "#Applying Feature Scaling in trip_duration caloumn to normalize the data\n",
    "df['log_trip_duration']= np.log1p(df['trip_duration'])\n",
    "plt.hist(df['log_trip_duration'].values, bins=100)\n",
    "plt.title('Log Trip Distribution')\n",
    "plt.xlabel('log(trip_duration)')\n",
    "plt.ylabel('Number of Trips')\n",
    "plt.show()\n",
    "sns.distplot(df[\"log_trip_duration\"], bins =100)"
   ]
  },
  {
   "cell_type": "code",
   "execution_count": 41,
   "id": "b9b40199",
   "metadata": {},
   "outputs": [
    {
     "data": {
      "text/plain": [
       "<matplotlib.collections.PathCollection at 0x23c131f9910>"
      ]
     },
     "execution_count": 41,
     "metadata": {},
     "output_type": "execute_result"
    },
    {
     "data": {
      "image/png": "[encoded data removed]",
      "text/plain": [
       "<Figure size 720x576 with 1 Axes>"
      ]
     },
     "metadata": {
      "needs_background": "light"
     },
     "output_type": "display_data"
    }
   ],
   "source": [
    "#Visualizing Passenger road map for picking up\n",
    "fig, ax = plt.subplots(ncols=1, nrows=1,figsize=(10,8))\n",
    "plt.ylim(40.63, 40.85)\n",
    "plt.xlim(-74.03,-73.75)\n",
    "ax.scatter(df['pickup_longitude'],df['pickup_latitude'], s=0.02, alpha=1)"
   ]
  },
  {
   "cell_type": "code",
   "execution_count": 42,
   "id": "3b48e22d",
   "metadata": {},
   "outputs": [
    {
     "data": {
      "text/plain": [
       "<matplotlib.collections.PathCollection at 0x23c133fe730>"
      ]
     },
     "execution_count": 42,
     "metadata": {},
     "output_type": "execute_result"
    },
    {
     "data": {
      "image/png": "[encoded data removed]",
      "text/plain": [
       "<Figure size 720x576 with 1 Axes>"
      ]
     },
     "metadata": {
      "needs_background": "light"
     },
     "output_type": "display_data"
    }
   ],
   "source": [
    "#Visualizing Passenger road map for dropoff\n",
    "fig, ax = plt.subplots(ncols=1, nrows=1,figsize=(10,8))\n",
    "plt.ylim(40.63, 40.85)\n",
    "plt.xlim(-74.03,-73.75)\n",
    "ax.scatter(df['dropoff_longitude'],df['dropoff_latitude'], s=0.02, alpha=1)\n"
   ]
  },
  {
   "cell_type": "markdown",
   "id": "cf61edcf",
   "metadata": {},
   "source": [
    "# Cleaning data:  one hot encoding, adding columns, removing duplicate columns, dropping columns,"
   ]
  },
  {
   "cell_type": "code",
   "execution_count": 43,
   "id": "1dea1985",
   "metadata": {},
   "outputs": [
    {
     "data": {
      "text/plain": [
       "Index(['id', 'vendor_id', 'pickup_datetime', 'dropoff_datetime',\n",
       "       'passenger_count', 'pickup_longitude', 'pickup_latitude',\n",
       "       'dropoff_longitude', 'dropoff_latitude', 'store_and_fwd_flag',\n",
       "       'trip_duration', 'pickup_month', 'pickup_day_name', 'pickup_hour',\n",
       "       'pickup_year', 'dropoff_month', 'dropoff_day_name', 'dropoff_hour',\n",
       "       'dropoff_year', 'traffic_scenerio_pickup', 'traffic_scenerio_dropoff',\n",
       "       'distance_km', 'speed_km/h', 'log_trip_duration'],\n",
       "      dtype='object')"
      ]
     },
     "execution_count": 43,
     "metadata": {},
     "output_type": "execute_result"
    }
   ],
   "source": [
    "df.columns"
   ]
  },
  {
   "cell_type": "code",
   "execution_count": 44,
   "id": "3a6a0b6c",
   "metadata": {},
   "outputs": [
    {
     "data": {
      "text/plain": [
       "id                                  object\n",
       "vendor_id                            int64\n",
       "pickup_datetime             datetime64[ns]\n",
       "dropoff_datetime            datetime64[ns]\n",
       "passenger_count                      int64\n",
       "pickup_longitude                   float64\n",
       "pickup_latitude                    float64\n",
       "dropoff_longitude                  float64\n",
       "dropoff_latitude                   float64\n",
       "store_and_fwd_flag                  object\n",
       "trip_duration                        int64\n",
       "pickup_month                         int64\n",
       "pickup_day_name                     object\n",
       "pickup_hour                          int64\n",
       "pickup_year                          int64\n",
       "dropoff_month                        int64\n",
       "dropoff_day_name                    object\n",
       "dropoff_hour                         int64\n",
       "dropoff_year                         int64\n",
       "traffic_scenerio_pickup             object\n",
       "traffic_scenerio_dropoff            object\n",
       "distance_km                        float64\n",
       "speed_km/h                         float64\n",
       "log_trip_duration                  float64\n",
       "dtype: object"
      ]
     },
     "execution_count": 44,
     "metadata": {},
     "output_type": "execute_result"
    }
   ],
   "source": [
    "#check datatypes\n",
    "df.dtypes"
   ]
  },
  {
   "cell_type": "code",
   "execution_count": 45,
   "id": "59f46070",
   "metadata": {},
   "outputs": [],
   "source": [
    "#Applying one hot encoding to the catagorical variables(nominal)\n",
    "\n",
    "taxi_traffic_scenerio_pickup=pd.get_dummies(df.traffic_scenerio_pickup )\n",
    "taxi_traffic_scenerio_dropoff=pd.get_dummies(df.traffic_scenerio_dropoff )\n",
    "taxi_pickup_day_name=pd.get_dummies(df.pickup_day_name )\n",
    "taxi_dropoff_day_name=pd.get_dummies(df.dropoff_day_name )\n",
    "taxi_vendor=pd.get_dummies(df.vendor_id)\n",
    "taxi_pax=pd.get_dummies(df.passenger_count)\n",
    "taxi_store_and_fwd_flag=pd.get_dummies(df.store_and_fwd_flag)\n",
    "taxi_pickup_month=pd.get_dummies(df.pickup_month)\n",
    "taxi_dropoff_month=pd.get_dummies(df.dropoff_month)"
   ]
  },
  {
   "cell_type": "code",
   "execution_count": 46,
   "id": "d9d0b635",
   "metadata": {},
   "outputs": [],
   "source": [
    "#Adding encoded columns to orginal data\n",
    "df=pd.concat([df,taxi_pickup_day_name,taxi_dropoff_day_name,taxi_traffic_scenerio_pickup,taxi_traffic_scenerio_dropoff,taxi_vendor,taxi_pax,taxi_store_and_fwd_flag,taxi_pickup_month,taxi_dropoff_month],axis='columns')"
   ]
  },
  {
   "cell_type": "code",
   "execution_count": 47,
   "id": "947619b9",
   "metadata": {},
   "outputs": [
    {
     "data": {
      "text/html": [
       "<div>\n",
       "<style scoped>\n",
       "    .dataframe tbody tr th:only-of-type {\n",
       "        vertical-align: middle;\n",
       "    }\n",
       "\n",
       "    .dataframe tbody tr th {\n",
       "        vertical-align: top;\n",
       "    }\n",
       "\n",
       "    .dataframe thead th {\n",
       "        text-align: right;\n",
       "    }\n",
       "</style>\n",
       "<table border=\"1\" class=\"dataframe\">\n",
       "  <thead>\n",
       "    <tr style=\"text-align: right;\">\n",
       "      <th></th>\n",
       "      <th>id</th>\n",
       "      <th>vendor_id</th>\n",
       "      <th>pickup_datetime</th>\n",
       "      <th>dropoff_datetime</th>\n",
       "      <th>passenger_count</th>\n",
       "      <th>pickup_longitude</th>\n",
       "      <th>pickup_latitude</th>\n",
       "      <th>dropoff_longitude</th>\n",
       "      <th>dropoff_latitude</th>\n",
       "      <th>store_and_fwd_flag</th>\n",
       "      <th>...</th>\n",
       "      <th>3</th>\n",
       "      <th>4</th>\n",
       "      <th>5</th>\n",
       "      <th>6</th>\n",
       "      <th>1</th>\n",
       "      <th>2</th>\n",
       "      <th>3</th>\n",
       "      <th>4</th>\n",
       "      <th>5</th>\n",
       "      <th>6</th>\n",
       "    </tr>\n",
       "  </thead>\n",
       "  <tbody>\n",
       "    <tr>\n",
       "      <th>455488</th>\n",
       "      <td>id2898909</td>\n",
       "      <td>1</td>\n",
       "      <td>2016-03-03 10:30:21</td>\n",
       "      <td>2016-03-03 10:43:49</td>\n",
       "      <td>1</td>\n",
       "      <td>-73.991409</td>\n",
       "      <td>40.750320</td>\n",
       "      <td>-73.978813</td>\n",
       "      <td>40.762032</td>\n",
       "      <td>N</td>\n",
       "      <td>...</td>\n",
       "      <td>1</td>\n",
       "      <td>0</td>\n",
       "      <td>0</td>\n",
       "      <td>0</td>\n",
       "      <td>0</td>\n",
       "      <td>0</td>\n",
       "      <td>1</td>\n",
       "      <td>0</td>\n",
       "      <td>0</td>\n",
       "      <td>0</td>\n",
       "    </tr>\n",
       "    <tr>\n",
       "      <th>112922</th>\n",
       "      <td>id3276089</td>\n",
       "      <td>2</td>\n",
       "      <td>2016-03-23 18:39:57</td>\n",
       "      <td>2016-03-23 19:01:06</td>\n",
       "      <td>1</td>\n",
       "      <td>-73.981850</td>\n",
       "      <td>40.773289</td>\n",
       "      <td>-73.978973</td>\n",
       "      <td>40.757240</td>\n",
       "      <td>N</td>\n",
       "      <td>...</td>\n",
       "      <td>1</td>\n",
       "      <td>0</td>\n",
       "      <td>0</td>\n",
       "      <td>0</td>\n",
       "      <td>0</td>\n",
       "      <td>0</td>\n",
       "      <td>1</td>\n",
       "      <td>0</td>\n",
       "      <td>0</td>\n",
       "      <td>0</td>\n",
       "    </tr>\n",
       "  </tbody>\n",
       "</table>\n",
       "<p>2 rows × 70 columns</p>\n",
       "</div>"
      ],
      "text/plain": [
       "               id  vendor_id     pickup_datetime    dropoff_datetime  \\\n",
       "455488  id2898909          1 2016-03-03 10:30:21 2016-03-03 10:43:49   \n",
       "112922  id3276089          2 2016-03-23 18:39:57 2016-03-23 19:01:06   \n",
       "\n",
       "        passenger_count  pickup_longitude  pickup_latitude  dropoff_longitude  \\\n",
       "455488                1        -73.991409        40.750320         -73.978813   \n",
       "112922                1        -73.981850        40.773289         -73.978973   \n",
       "\n",
       "        dropoff_latitude store_and_fwd_flag  ...  3  4  5  6  1  2  3  4  5  6  \n",
       "455488         40.762032                  N  ...  1  0  0  0  0  0  1  0  0  0  \n",
       "112922         40.757240                  N  ...  1  0  0  0  0  0  1  0  0  0  \n",
       "\n",
       "[2 rows x 70 columns]"
      ]
     },
     "execution_count": 47,
     "metadata": {},
     "output_type": "execute_result"
    }
   ],
   "source": [
    "df.head(2)"
   ]
  },
  {
   "cell_type": "code",
   "execution_count": 48,
   "id": "1db97cbb",
   "metadata": {},
   "outputs": [
    {
     "data": {
      "text/plain": [
       "Index([                         'id',                   'vendor_id',\n",
       "                   'pickup_datetime',            'dropoff_datetime',\n",
       "                   'passenger_count',            'pickup_longitude',\n",
       "                   'pickup_latitude',           'dropoff_longitude',\n",
       "                  'dropoff_latitude',          'store_and_fwd_flag',\n",
       "                     'trip_duration',                'pickup_month',\n",
       "                   'pickup_day_name',                 'pickup_hour',\n",
       "                       'pickup_year',               'dropoff_month',\n",
       "                  'dropoff_day_name',                'dropoff_hour',\n",
       "                      'dropoff_year',     'traffic_scenerio_pickup',\n",
       "          'traffic_scenerio_dropoff',                 'distance_km',\n",
       "                        'speed_km/h',           'log_trip_duration',\n",
       "                            'Friday',                      'Monday',\n",
       "                          'Saturday',                      'Sunday',\n",
       "                          'Thursday',                     'Tuesday',\n",
       "                         'Wednesday',                      'Friday',\n",
       "                            'Monday',                    'Saturday',\n",
       "                            'Sunday',                    'Thursday',\n",
       "                           'Tuesday',                   'Wednesday',\n",
       "             'latenight(22 onwards)', 'normal_hour_afternoon(9-16)',\n",
       "        'normal_hour_evening(19-22)',    'rush_hour_evening(18-22)',\n",
       "            'rush_hour_morning(7-9)',       'latenight(22 onwards)',\n",
       "       'normal_hour_afternoon(9-16)',  'normal_hour_evening(19-22)',\n",
       "          'rush_hour_evening(18-22)',      'rush_hour_morning(7-9)',\n",
       "                                   1,                             2,\n",
       "                                   1,                             2,\n",
       "                                   3,                             4,\n",
       "                                   5,                             6,\n",
       "                                 'N',                           'Y',\n",
       "                                   1,                             2,\n",
       "                                   3,                             4,\n",
       "                                   5,                             6,\n",
       "                                   1,                             2,\n",
       "                                   3,                             4,\n",
       "                                   5,                             6],\n",
       "      dtype='object')"
      ]
     },
     "execution_count": 48,
     "metadata": {},
     "output_type": "execute_result"
    }
   ],
   "source": [
    "df.columns"
   ]
  },
  {
   "cell_type": "code",
   "execution_count": 49,
   "id": "9de046c8",
   "metadata": {},
   "outputs": [],
   "source": [
    "#REMOVING DUPLICATE columns \n",
    "df = df.loc[:,~df.columns.duplicated()]"
   ]
  },
  {
   "cell_type": "code",
   "execution_count": 50,
   "id": "522e51d1",
   "metadata": {},
   "outputs": [
    {
     "data": {
      "text/plain": [
       "Index([                         'id',                   'vendor_id',\n",
       "                   'pickup_datetime',            'dropoff_datetime',\n",
       "                   'passenger_count',            'pickup_longitude',\n",
       "                   'pickup_latitude',           'dropoff_longitude',\n",
       "                  'dropoff_latitude',          'store_and_fwd_flag',\n",
       "                     'trip_duration',                'pickup_month',\n",
       "                   'pickup_day_name',                 'pickup_hour',\n",
       "                       'pickup_year',               'dropoff_month',\n",
       "                  'dropoff_day_name',                'dropoff_hour',\n",
       "                      'dropoff_year',     'traffic_scenerio_pickup',\n",
       "          'traffic_scenerio_dropoff',                 'distance_km',\n",
       "                        'speed_km/h',           'log_trip_duration',\n",
       "                            'Friday',                      'Monday',\n",
       "                          'Saturday',                      'Sunday',\n",
       "                          'Thursday',                     'Tuesday',\n",
       "                         'Wednesday',       'latenight(22 onwards)',\n",
       "       'normal_hour_afternoon(9-16)',  'normal_hour_evening(19-22)',\n",
       "          'rush_hour_evening(18-22)',      'rush_hour_morning(7-9)',\n",
       "                                   1,                             2,\n",
       "                                   3,                             4,\n",
       "                                   5,                             6,\n",
       "                                 'N',                           'Y'],\n",
       "      dtype='object')"
      ]
     },
     "execution_count": 50,
     "metadata": {},
     "output_type": "execute_result"
    }
   ],
   "source": [
    "#checking the columns\n",
    "df.columns"
   ]
  },
  {
   "cell_type": "code",
   "execution_count": 51,
   "id": "012ae3ed",
   "metadata": {},
   "outputs": [],
   "source": [
    "#droping unnecessary columns\n",
    "df=df.drop(['id','vendor_id','passenger_count','pickup_datetime','dropoff_datetime',\n",
    "            'pickup_longitude','pickup_latitude','dropoff_longitude','dropoff_latitude',\n",
    "            'log_trip_duration','speed_km/h','store_and_fwd_flag','traffic_scenerio_pickup','traffic_scenerio_dropoff',\n",
    "            'pickup_month','dropoff_month','pickup_day_name','dropoff_day_name','pickup_hour','dropoff_hour',\n",
    "           ],axis='columns')"
   ]
  },
  {
   "cell_type": "code",
   "execution_count": 52,
   "id": "5cc70278",
   "metadata": {},
   "outputs": [
    {
     "data": {
      "text/plain": [
       "Index([              'trip_duration',                 'pickup_year',\n",
       "                      'dropoff_year',                 'distance_km',\n",
       "                            'Friday',                      'Monday',\n",
       "                          'Saturday',                      'Sunday',\n",
       "                          'Thursday',                     'Tuesday',\n",
       "                         'Wednesday',       'latenight(22 onwards)',\n",
       "       'normal_hour_afternoon(9-16)',  'normal_hour_evening(19-22)',\n",
       "          'rush_hour_evening(18-22)',      'rush_hour_morning(7-9)',\n",
       "                                   1,                             2,\n",
       "                                   3,                             4,\n",
       "                                   5,                             6,\n",
       "                                 'N',                           'Y'],\n",
       "      dtype='object')"
      ]
     },
     "execution_count": 52,
     "metadata": {},
     "output_type": "execute_result"
    }
   ],
   "source": [
    "df.columns"
   ]
  },
  {
   "cell_type": "code",
   "execution_count": 53,
   "id": "7d67167e",
   "metadata": {},
   "outputs": [],
   "source": [
    "#droping year columns\n",
    "df=df.drop(['pickup_year','dropoff_year'],axis='columns')"
   ]
  },
  {
   "cell_type": "markdown",
   "id": "035bf2f2",
   "metadata": {},
   "source": [
    "# Benchmark: Classification, train_test_split"
   ]
  },
  {
   "cell_type": "code",
   "execution_count": 54,
   "id": "266b61f9",
   "metadata": {},
   "outputs": [],
   "source": [
    "#Importing some analytical libraries\n",
    "\n",
    "from sklearn.preprocessing import MinMaxScaler, StandardScaler\n",
    "from sklearn.model_selection import train_test_split\n",
    "from pylab import rcParams\n",
    "from sklearn.linear_model import LinearRegression\n",
    "from sklearn.tree import DecisionTreeRegressor\n",
    "from sklearn.metrics import mean_squared_error,r2_score\n",
    "from sklearn import metrics\n",
    "from sklearn.metrics import accuracy_score"
   ]
  },
  {
   "cell_type": "code",
   "execution_count": 55,
   "id": "a6d474a1",
   "metadata": {},
   "outputs": [
    {
     "data": {
      "text/plain": [
       "((9327, 21), (9327,))"
      ]
     },
     "execution_count": 55,
     "metadata": {},
     "output_type": "execute_result"
    }
   ],
   "source": [
    "#Assigning X and y variables\n",
    "X = df.drop('trip_duration',axis='columns')\n",
    "y = df['trip_duration']\n",
    "X.shape, y.shape"
   ]
  },
  {
   "cell_type": "code",
   "execution_count": 56,
   "id": "775b3a3e",
   "metadata": {},
   "outputs": [],
   "source": [
    "#Splitting the dataset into train and test\n",
    "X_train,X_test,y_train,y_test = train_test_split(X,y,test_size=0.2,random_state=0)"
   ]
  },
  {
   "cell_type": "code",
   "execution_count": 57,
   "id": "94fa5c94",
   "metadata": {},
   "outputs": [
    {
     "data": {
      "text/plain": [
       "7461"
      ]
     },
     "execution_count": 57,
     "metadata": {},
     "output_type": "execute_result"
    }
   ],
   "source": [
    "#checking length(80% of dataset) of train_dataset\n",
    "len(X_train)"
   ]
  },
  {
   "cell_type": "code",
   "execution_count": 58,
   "id": "69809194",
   "metadata": {},
   "outputs": [
    {
     "data": {
      "text/html": [
       "<div>\n",
       "<style scoped>\n",
       "    .dataframe tbody tr th:only-of-type {\n",
       "        vertical-align: middle;\n",
       "    }\n",
       "\n",
       "    .dataframe tbody tr th {\n",
       "        vertical-align: top;\n",
       "    }\n",
       "\n",
       "    .dataframe thead th {\n",
       "        text-align: right;\n",
       "    }\n",
       "</style>\n",
       "<table border=\"1\" class=\"dataframe\">\n",
       "  <thead>\n",
       "    <tr style=\"text-align: right;\">\n",
       "      <th></th>\n",
       "      <th>distance_km</th>\n",
       "      <th>Friday</th>\n",
       "      <th>Monday</th>\n",
       "      <th>Saturday</th>\n",
       "      <th>Sunday</th>\n",
       "      <th>Thursday</th>\n",
       "      <th>Tuesday</th>\n",
       "      <th>Wednesday</th>\n",
       "      <th>latenight(22 onwards)</th>\n",
       "      <th>normal_hour_afternoon(9-16)</th>\n",
       "      <th>...</th>\n",
       "      <th>rush_hour_evening(18-22)</th>\n",
       "      <th>rush_hour_morning(7-9)</th>\n",
       "      <th>1</th>\n",
       "      <th>2</th>\n",
       "      <th>3</th>\n",
       "      <th>4</th>\n",
       "      <th>5</th>\n",
       "      <th>6</th>\n",
       "      <th>N</th>\n",
       "      <th>Y</th>\n",
       "    </tr>\n",
       "  </thead>\n",
       "  <tbody>\n",
       "    <tr>\n",
       "      <th>117438</th>\n",
       "      <td>0.92</td>\n",
       "      <td>0</td>\n",
       "      <td>0</td>\n",
       "      <td>1</td>\n",
       "      <td>0</td>\n",
       "      <td>0</td>\n",
       "      <td>0</td>\n",
       "      <td>0</td>\n",
       "      <td>0</td>\n",
       "      <td>1</td>\n",
       "      <td>...</td>\n",
       "      <td>0</td>\n",
       "      <td>0</td>\n",
       "      <td>1</td>\n",
       "      <td>0</td>\n",
       "      <td>0</td>\n",
       "      <td>0</td>\n",
       "      <td>0</td>\n",
       "      <td>0</td>\n",
       "      <td>1</td>\n",
       "      <td>0</td>\n",
       "    </tr>\n",
       "    <tr>\n",
       "      <th>138896</th>\n",
       "      <td>1.51</td>\n",
       "      <td>0</td>\n",
       "      <td>0</td>\n",
       "      <td>0</td>\n",
       "      <td>0</td>\n",
       "      <td>0</td>\n",
       "      <td>0</td>\n",
       "      <td>1</td>\n",
       "      <td>0</td>\n",
       "      <td>0</td>\n",
       "      <td>...</td>\n",
       "      <td>0</td>\n",
       "      <td>0</td>\n",
       "      <td>0</td>\n",
       "      <td>1</td>\n",
       "      <td>0</td>\n",
       "      <td>0</td>\n",
       "      <td>0</td>\n",
       "      <td>0</td>\n",
       "      <td>1</td>\n",
       "      <td>0</td>\n",
       "    </tr>\n",
       "  </tbody>\n",
       "</table>\n",
       "<p>2 rows × 21 columns</p>\n",
       "</div>"
      ],
      "text/plain": [
       "        distance_km  Friday  Monday  Saturday  Sunday  Thursday  Tuesday  \\\n",
       "117438         0.92       0       0         1       0         0        0   \n",
       "138896         1.51       0       0         0       0         0        0   \n",
       "\n",
       "        Wednesday  latenight(22 onwards)  normal_hour_afternoon(9-16)  ...  \\\n",
       "117438          0                      0                            1  ...   \n",
       "138896          1                      0                            0  ...   \n",
       "\n",
       "        rush_hour_evening(18-22)  rush_hour_morning(7-9)  1  2  3  4  5  6  N  \\\n",
       "117438                         0                       0  1  0  0  0  0  0  1   \n",
       "138896                         0                       0  0  1  0  0  0  0  1   \n",
       "\n",
       "        Y  \n",
       "117438  0  \n",
       "138896  0  \n",
       "\n",
       "[2 rows x 21 columns]"
      ]
     },
     "execution_count": 58,
     "metadata": {},
     "output_type": "execute_result"
    }
   ],
   "source": [
    "#checking the randomly picked train dataset\n",
    "X_train.head(2)"
   ]
  },
  {
   "cell_type": "code",
   "execution_count": 59,
   "id": "8c6e75b1",
   "metadata": {},
   "outputs": [
    {
     "data": {
      "text/plain": [
       "1866"
      ]
     },
     "execution_count": 59,
     "metadata": {},
     "output_type": "execute_result"
    }
   ],
   "source": [
    "#checking length(20% of dataset) of test_dataset\n",
    "len(X_test)"
   ]
  },
  {
   "cell_type": "markdown",
   "id": "c54a6e5d",
   "metadata": {},
   "source": [
    "# Implementing KNN Regressor"
   ]
  },
  {
   "cell_type": "code",
   "execution_count": 60,
   "id": "bab242bc",
   "metadata": {},
   "outputs": [
    {
     "data": {
      "text/plain": [
       "KNeighborsRegressor()"
      ]
     },
     "execution_count": 60,
     "metadata": {},
     "output_type": "execute_result"
    }
   ],
   "source": [
    "#importing KNN regressor and metric mse\n",
    "\n",
    "from sklearn.neighbors import KNeighborsRegressor as KNN\n",
    "from sklearn.metrics import mean_squared_error as mse\n",
    "from sklearn import metrics\n",
    "knn = KNN()\n",
    "knn.fit(X_train, y_train)"
   ]
  },
  {
   "cell_type": "code",
   "execution_count": 61,
   "id": "fe47d390",
   "metadata": {},
   "outputs": [
    {
     "data": {
      "text/plain": [
       "array([0.67786091, 0.64241872, 0.66565622, 0.63880136, 0.64665796])"
      ]
     },
     "execution_count": 61,
     "metadata": {},
     "output_type": "execute_result"
    }
   ],
   "source": [
    "from sklearn.model_selection import cross_val_score\n",
    "knn_scores = cross_val_score(knn, X_train, y_train, scoring='r2', cv=5)\n",
    "knn_scores  "
   ]
  },
  {
   "cell_type": "code",
   "execution_count": 62,
   "id": "974d4d33",
   "metadata": {},
   "outputs": [
    {
     "data": {
      "text/plain": [
       "(65.427903553524, 1.4992342009267645)"
      ]
     },
     "execution_count": 62,
     "metadata": {},
     "output_type": "execute_result"
    }
   ],
   "source": [
    "# Consistency using Mean and standard deviation in percentage\n",
    "knn_scores.mean()*100, knn_scores.std()*100"
   ]
  },
  {
   "cell_type": "code",
   "execution_count": 63,
   "id": "fca92374",
   "metadata": {},
   "outputs": [],
   "source": [
    "def Elbow(K):\n",
    "  #initiating empty list\n",
    "    test_mse = []\n",
    "  \n",
    "  #training model for evey value of K\n",
    "    for i in K:\n",
    "        #Instance of KNN\n",
    "        reg = KNN(n_neighbors = i)\n",
    "        reg.fit(X_train, y_train)\n",
    "        #Appending mse value to empty list claculated using the predictions\n",
    "        tmp = reg.predict(X_test)\n",
    "        tmp = mse(tmp,y_test)\n",
    "        test_mse.append(tmp)\n",
    "    \n",
    "    return test_mse"
   ]
  },
  {
   "cell_type": "code",
   "execution_count": 64,
   "id": "d773cef5",
   "metadata": {},
   "outputs": [],
   "source": [
    "#Defining K range\n",
    "k = range(1,40)"
   ]
  },
  {
   "cell_type": "code",
   "execution_count": 65,
   "id": "3cb3e2b0",
   "metadata": {},
   "outputs": [],
   "source": [
    "# calling above defined function\n",
    "test = Elbow(k)"
   ]
  },
  {
   "cell_type": "code",
   "execution_count": 66,
   "id": "e760864b",
   "metadata": {},
   "outputs": [
    {
     "data": {
      "text/plain": [
       "Text(0.5, 1.0, 'Elbow Curve for test')"
      ]
     },
     "execution_count": 66,
     "metadata": {},
     "output_type": "execute_result"
    },
    {
     "data": {
      "image/png": "[encoded data removed]",
      "text/plain": [
       "<Figure size 432x288 with 1 Axes>"
      ]
     },
     "metadata": {
      "needs_background": "light"
     },
     "output_type": "display_data"
    }
   ],
   "source": [
    "# plotting the Curves\n",
    "plt.plot(k, test)\n",
    "plt.xlabel('K Neighbors')\n",
    "plt.ylabel('Test Mean Squared Error')\n",
    "plt.title('Elbow Curve for test')"
   ]
  },
  {
   "cell_type": "markdown",
   "id": "8066ab78",
   "metadata": {},
   "source": [
    "### from the graph its clear k=10"
   ]
  },
  {
   "cell_type": "code",
   "execution_count": 67,
   "id": "50ef04a9",
   "metadata": {},
   "outputs": [],
   "source": [
    "# Creating instance of KNN\n",
    "reg = KNN(n_neighbors = 10)\n",
    "\n",
    "# Fitting the model\n",
    "reg.fit(X_train, y_train)\n",
    "\n",
    "# Predicting over the Train Set and calculating MSE\n",
    "train_predict = reg.predict(X_train)\n",
    "test_predict = reg.predict(X_test)"
   ]
  },
  {
   "cell_type": "code",
   "execution_count": 68,
   "id": "4c5d1d05",
   "metadata": {},
   "outputs": [],
   "source": [
    "knn = KNN()\n",
    "knn.fit(X_train, y_train)\n",
    "knn_pred = knn.predict(X_test)"
   ]
  },
  {
   "cell_type": "code",
   "execution_count": 69,
   "id": "aed54e9c",
   "metadata": {},
   "outputs": [
    {
     "data": {
      "text/plain": [
       "377.3462359130811"
      ]
     },
     "execution_count": 69,
     "metadata": {},
     "output_type": "execute_result"
    }
   ],
   "source": [
    "#RMSE score \n",
    "\n",
    "knn_rmse = np.sqrt(metrics.mean_squared_error(knn_pred,y_test))\n",
    "knn_rmse"
   ]
  },
  {
   "cell_type": "code",
   "execution_count": 70,
   "id": "8cc0bee2",
   "metadata": {},
   "outputs": [
    {
     "data": {
      "text/plain": [
       "0.5006629328103309"
      ]
     },
     "execution_count": 70,
     "metadata": {},
     "output_type": "execute_result"
    }
   ],
   "source": [
    "#R2 score\n",
    "knn_r2score = metrics.r2_score(knn_pred,y_test)\n",
    "knn_r2score"
   ]
  },
  {
   "cell_type": "code",
   "execution_count": 72,
   "id": "e12f44a2",
   "metadata": {},
   "outputs": [
    {
     "data": {
      "text/plain": [
       "0.7698987622005953"
      ]
     },
     "execution_count": 72,
     "metadata": {},
     "output_type": "execute_result"
    }
   ],
   "source": [
    "#Train Score\n",
    "knn_train=knn.score(X_train,y_train)\n",
    "knn_train"
   ]
  },
  {
   "cell_type": "code",
   "execution_count": 73,
   "id": "e92aa7dd",
   "metadata": {},
   "outputs": [
    {
     "data": {
      "text/plain": [
       "0.6219820239853545"
      ]
     },
     "execution_count": 73,
     "metadata": {},
     "output_type": "execute_result"
    }
   ],
   "source": [
    "#Test Score\n",
    "knn_test=knn.score(X_test,y_test)\n",
    "knn_test"
   ]
  },
  {
   "cell_type": "markdown",
   "id": "caf1405f",
   "metadata": {},
   "source": [
    "# Linear Regression"
   ]
  },
  {
   "cell_type": "code",
   "execution_count": 74,
   "id": "6f80db68",
   "metadata": {},
   "outputs": [],
   "source": [
    "lr = LinearRegression()\n",
    "lr.fit(X_train,y_train)\n",
    "lr_pred = lr.predict(X_test)"
   ]
  },
  {
   "cell_type": "code",
   "execution_count": 75,
   "id": "8fe02859",
   "metadata": {},
   "outputs": [
    {
     "data": {
      "text/plain": [
       "381.3228373455141"
      ]
     },
     "execution_count": 75,
     "metadata": {},
     "output_type": "execute_result"
    }
   ],
   "source": [
    "#RMSE score \n",
    "\n",
    "lr_rmse = np.sqrt(metrics.mean_squared_error(lr_pred,y_test))\n",
    "lr_rmse"
   ]
  },
  {
   "cell_type": "code",
   "execution_count": 76,
   "id": "50e98669",
   "metadata": {},
   "outputs": [
    {
     "data": {
      "text/plain": [
       "0.37221294979742214"
      ]
     },
     "execution_count": 76,
     "metadata": {},
     "output_type": "execute_result"
    }
   ],
   "source": [
    "#R2 score\n",
    "lr_r2score = metrics.r2_score(lr_pred,y_test)\n",
    "lr_r2score"
   ]
  },
  {
   "cell_type": "code",
   "execution_count": 77,
   "id": "4648a990",
   "metadata": {},
   "outputs": [
    {
     "data": {
      "text/plain": [
       "0.6419013867858143"
      ]
     },
     "execution_count": 77,
     "metadata": {},
     "output_type": "execute_result"
    }
   ],
   "source": [
    "#Train Score\n",
    "lr_train=lr.score(X_train,y_train)\n",
    "lr_train"
   ]
  },
  {
   "cell_type": "code",
   "execution_count": 78,
   "id": "ceadc81e",
   "metadata": {},
   "outputs": [
    {
     "data": {
      "text/plain": [
       "0.6139726817114017"
      ]
     },
     "execution_count": 78,
     "metadata": {},
     "output_type": "execute_result"
    }
   ],
   "source": [
    "#Test Score\n",
    "lr_test=lr.score(X_test,y_test)\n",
    "lr_test"
   ]
  },
  {
   "cell_type": "code",
   "execution_count": 79,
   "id": "782ec61e",
   "metadata": {},
   "outputs": [
    {
     "data": {
      "text/plain": [
       "613.7391054002607"
      ]
     },
     "execution_count": 79,
     "metadata": {},
     "output_type": "execute_result"
    }
   ],
   "source": [
    "#Null RMSE\n",
    "y_null=np.zeros_like(y_test,dtype=float)\n",
    "y_null.fill(y_test.mean())\n",
    "np.sqrt(metrics.mean_squared_error(y_test,y_null))"
   ]
  },
  {
   "cell_type": "code",
   "execution_count": 80,
   "id": "d3a5c4db",
   "metadata": {},
   "outputs": [
    {
     "data": {
      "text/plain": [
       "<AxesSubplot:title={'center':'Model Coefficients'}>"
      ]
     },
     "execution_count": 80,
     "metadata": {},
     "output_type": "execute_result"
    },
    {
     "data": {
      "image/png": "[encoded data removed]",
      "text/plain": [
       "<Figure size 432x288 with 1 Axes>"
      ]
     },
     "metadata": {
      "needs_background": "light"
     },
     "output_type": "display_data"
    }
   ],
   "source": [
    "coef1 = pd.DataFrame(lr.coef_,index=X_train.columns)\n",
    "coef1.plot(kind='bar', title='Model Coefficients')"
   ]
  },
  {
   "cell_type": "markdown",
   "id": "40be15ee",
   "metadata": {},
   "source": [
    "# Building Decision Tree Regressor Model"
   ]
  },
  {
   "cell_type": "code",
   "execution_count": 81,
   "id": "91c9e7c4",
   "metadata": {},
   "outputs": [],
   "source": [
    "from sklearn.tree import DecisionTreeRegressor\n",
    "dt=DecisionTreeRegressor()\n",
    "dt.fit(X_train,y_train)\n",
    "dt_pred=dt.predict(X_test)"
   ]
  },
  {
   "cell_type": "code",
   "execution_count": 82,
   "id": "63adf633",
   "metadata": {},
   "outputs": [
    {
     "data": {
      "text/plain": [
       "476.22024106705607"
      ]
     },
     "execution_count": 82,
     "metadata": {},
     "output_type": "execute_result"
    }
   ],
   "source": [
    "#RMSE score \n",
    "dt_rmse = np.sqrt(metrics.mean_squared_error(dt_pred,y_test))\n",
    "dt_rmse"
   ]
  },
  {
   "cell_type": "code",
   "execution_count": 83,
   "id": "1bc3bd99",
   "metadata": {},
   "outputs": [
    {
     "data": {
      "text/plain": [
       "0.4399977272092457"
      ]
     },
     "execution_count": 83,
     "metadata": {},
     "output_type": "execute_result"
    }
   ],
   "source": [
    "#R2 score\n",
    "dt_r2score = metrics.r2_score(dt_pred,y_test)\n",
    "dt_r2score"
   ]
  },
  {
   "cell_type": "code",
   "execution_count": 84,
   "id": "8579e9da",
   "metadata": {},
   "outputs": [
    {
     "data": {
      "text/plain": [
       "0.9852042054437756"
      ]
     },
     "execution_count": 84,
     "metadata": {},
     "output_type": "execute_result"
    }
   ],
   "source": [
    "#Train Score\n",
    "dt_train=dt.score(X_train,y_train)\n",
    "dt_train"
   ]
  },
  {
   "cell_type": "code",
   "execution_count": 85,
   "id": "3867bc77",
   "metadata": {},
   "outputs": [
    {
     "data": {
      "text/plain": [
       "0.3979284452774253"
      ]
     },
     "execution_count": 85,
     "metadata": {},
     "output_type": "execute_result"
    }
   ],
   "source": [
    "#Test Score\n",
    "dt_test=dt.score(X_test,y_test)\n",
    "dt_test"
   ]
  },
  {
   "cell_type": "markdown",
   "id": "987800ec",
   "metadata": {},
   "source": [
    "# BUILDING Random Forest Regressor Model"
   ]
  },
  {
   "cell_type": "code",
   "execution_count": 86,
   "id": "ec9367d1",
   "metadata": {},
   "outputs": [],
   "source": [
    "from sklearn.ensemble import RandomForestRegressor\n",
    "rf=RandomForestRegressor()\n",
    "rf.fit(X_train,y_train)\n",
    "rf_pred=rf.predict(X_test)"
   ]
  },
  {
   "cell_type": "code",
   "execution_count": 87,
   "id": "08b11229",
   "metadata": {},
   "outputs": [
    {
     "data": {
      "text/plain": [
       "377.4958082382799"
      ]
     },
     "execution_count": 87,
     "metadata": {},
     "output_type": "execute_result"
    }
   ],
   "source": [
    "#RMSE score \n",
    "rf_rmse = np.sqrt(metrics.mean_squared_error(rf_pred,y_test))\n",
    "rf_rmse"
   ]
  },
  {
   "cell_type": "code",
   "execution_count": 88,
   "id": "87ff5d35",
   "metadata": {},
   "outputs": [
    {
     "data": {
      "text/plain": [
       "0.5259691616134505"
      ]
     },
     "execution_count": 88,
     "metadata": {},
     "output_type": "execute_result"
    }
   ],
   "source": [
    "#R2 score\n",
    "rf_r2score = metrics.r2_score(rf_pred,y_test)\n",
    "rf_r2score"
   ]
  },
  {
   "cell_type": "code",
   "execution_count": 89,
   "id": "fbcf2ba1",
   "metadata": {},
   "outputs": [
    {
     "data": {
      "text/plain": [
       "0.9396613909928095"
      ]
     },
     "execution_count": 89,
     "metadata": {},
     "output_type": "execute_result"
    }
   ],
   "source": [
    "#Train Score\n",
    "rf_train=rf.score(X_train,y_train)\n",
    "rf_train"
   ]
  },
  {
   "cell_type": "code",
   "execution_count": 90,
   "id": "fbd6f89e",
   "metadata": {},
   "outputs": [
    {
     "data": {
      "text/plain": [
       "0.6216822874139497"
      ]
     },
     "execution_count": 90,
     "metadata": {},
     "output_type": "execute_result"
    }
   ],
   "source": [
    "#Test Score\n",
    "rf_test=rf.score(X_test,y_test)\n",
    "rf_test"
   ]
  },
  {
   "cell_type": "markdown",
   "id": "f9a9586f",
   "metadata": {},
   "source": [
    "# Building AdaBoost Regressor Model"
   ]
  },
  {
   "cell_type": "code",
   "execution_count": 91,
   "id": "89cd16f2",
   "metadata": {},
   "outputs": [],
   "source": [
    "from sklearn.ensemble import AdaBoostRegressor\n",
    "ab=AdaBoostRegressor()\n",
    "ab.fit(X_train,y_train)\n",
    "ab_pred=ab.predict(X_test)"
   ]
  },
  {
   "cell_type": "code",
   "execution_count": 92,
   "id": "a33eb569",
   "metadata": {},
   "outputs": [
    {
     "data": {
      "text/plain": [
       "544.5036287440971"
      ]
     },
     "execution_count": 92,
     "metadata": {},
     "output_type": "execute_result"
    }
   ],
   "source": [
    "#RMSE score \n",
    "ab_rmse = np.sqrt(metrics.mean_squared_error(ab_pred,y_test))\n",
    "ab_rmse"
   ]
  },
  {
   "cell_type": "code",
   "execution_count": 93,
   "id": "17f58a8e",
   "metadata": {},
   "outputs": [
    {
     "data": {
      "text/plain": [
       "-0.050117569491979985"
      ]
     },
     "execution_count": 93,
     "metadata": {},
     "output_type": "execute_result"
    }
   ],
   "source": [
    "#R2 score\n",
    "ab_r2score = metrics.r2_score(ab_pred,y_test)\n",
    "ab_r2score"
   ]
  },
  {
   "cell_type": "code",
   "execution_count": 94,
   "id": "dc563872",
   "metadata": {},
   "outputs": [
    {
     "data": {
      "text/plain": [
       "0.3076928676205769"
      ]
     },
     "execution_count": 94,
     "metadata": {},
     "output_type": "execute_result"
    }
   ],
   "source": [
    "#Train Score\n",
    "ab_train=ab.score(X_train,y_train)\n",
    "ab_train"
   ]
  },
  {
   "cell_type": "code",
   "execution_count": 95,
   "id": "62dbdecd",
   "metadata": {},
   "outputs": [
    {
     "data": {
      "text/plain": [
       "0.21289265545381686"
      ]
     },
     "execution_count": 95,
     "metadata": {},
     "output_type": "execute_result"
    }
   ],
   "source": [
    "#Test Score\n",
    "ab_test=ab.score(X_test,y_test)\n",
    "ab_test"
   ]
  },
  {
   "cell_type": "markdown",
   "id": "2d777979",
   "metadata": {},
   "source": [
    "# Building Gradient Boosting Regressor\n"
   ]
  },
  {
   "cell_type": "code",
   "execution_count": 96,
   "id": "8e19db86",
   "metadata": {},
   "outputs": [],
   "source": [
    "from sklearn.ensemble import GradientBoostingRegressor\n",
    "gb = GradientBoostingRegressor()\n",
    "gb.fit(X_train,y_train)\n",
    "gb_pred = gb.predict(X_test)"
   ]
  },
  {
   "cell_type": "code",
   "execution_count": 97,
   "id": "142cfee5",
   "metadata": {},
   "outputs": [
    {
     "data": {
      "text/plain": [
       "347.8880003527422"
      ]
     },
     "execution_count": 97,
     "metadata": {},
     "output_type": "execute_result"
    }
   ],
   "source": [
    "#RMSE score \n",
    "gb_rmse = np.sqrt(metrics.mean_squared_error(gb_pred,y_test))\n",
    "gb_rmse"
   ]
  },
  {
   "cell_type": "code",
   "execution_count": 98,
   "id": "749869ea",
   "metadata": {},
   "outputs": [
    {
     "data": {
      "text/plain": [
       "0.5589631097945574"
      ]
     },
     "execution_count": 98,
     "metadata": {},
     "output_type": "execute_result"
    }
   ],
   "source": [
    "#R2 score\n",
    "gb_r2score = metrics.r2_score(gb_pred,y_test)\n",
    "gb_r2score"
   ]
  },
  {
   "cell_type": "code",
   "execution_count": 99,
   "id": "2e5ffc38",
   "metadata": {},
   "outputs": [
    {
     "data": {
      "text/plain": [
       "0.7359304716385332"
      ]
     },
     "execution_count": 99,
     "metadata": {},
     "output_type": "execute_result"
    }
   ],
   "source": [
    "#Train Score\n",
    "gb_train=gb.score(X_train,y_train)\n",
    "gb_train"
   ]
  },
  {
   "cell_type": "code",
   "execution_count": 100,
   "id": "563e8e8a",
   "metadata": {},
   "outputs": [
    {
     "data": {
      "text/plain": [
       "0.6786995705752099"
      ]
     },
     "execution_count": 100,
     "metadata": {},
     "output_type": "execute_result"
    }
   ],
   "source": [
    "#Test Score\n",
    "gb_test=gb.score(X_test,y_test)\n",
    "gb_test"
   ]
  },
  {
   "cell_type": "markdown",
   "id": "7a2f9cfd",
   "metadata": {},
   "source": [
    "# Building XGB Regressor Model"
   ]
  },
  {
   "cell_type": "code",
   "execution_count": 101,
   "id": "6e243f34",
   "metadata": {},
   "outputs": [
    {
     "name": "stdout",
     "output_type": "stream",
     "text": [
      "Requirement already satisfied: xgboost in c:\\users\\alfarid\\anaconda3\\lib\\site-packages (1.6.2)\n",
      "Requirement already satisfied: numpy in c:\\users\\alfarid\\anaconda3\\lib\\site-packages (from xgboost) (1.21.5)\n",
      "Requirement already satisfied: scipy in c:\\users\\alfarid\\anaconda3\\lib\\site-packages (from xgboost) (1.7.3)\n"
     ]
    }
   ],
   "source": [
    "import sys\n",
    "!{sys.executable} -m pip install xgboost"
   ]
  },
  {
   "cell_type": "code",
   "execution_count": 102,
   "id": "83b94f3c",
   "metadata": {},
   "outputs": [],
   "source": [
    "import xgboost"
   ]
  },
  {
   "cell_type": "code",
   "execution_count": 103,
   "id": "142ea676",
   "metadata": {},
   "outputs": [],
   "source": [
    "from xgboost.sklearn import XGBRegressor\n",
    "xgb= XGBRegressor()\n",
    "xgb.fit(X_train,y_train)\n",
    "xgb_pred=xgb.predict(X_test)"
   ]
  },
  {
   "cell_type": "code",
   "execution_count": 104,
   "id": "40dd655e",
   "metadata": {},
   "outputs": [
    {
     "data": {
      "text/plain": [
       "370.30584209993924"
      ]
     },
     "execution_count": 104,
     "metadata": {},
     "output_type": "execute_result"
    }
   ],
   "source": [
    "#RMSE score \n",
    "xgb_rmse = np.sqrt(metrics.mean_squared_error(xgb_pred,y_test))\n",
    "xgb_rmse"
   ]
  },
  {
   "cell_type": "code",
   "execution_count": 105,
   "id": "e62e761f",
   "metadata": {},
   "outputs": [
    {
     "data": {
      "text/plain": [
       "0.5392772910332837"
      ]
     },
     "execution_count": 105,
     "metadata": {},
     "output_type": "execute_result"
    }
   ],
   "source": [
    "#R2 score\n",
    "xgb_r2score = metrics.r2_score(xgb_pred,y_test)\n",
    "xgb_r2score"
   ]
  },
  {
   "cell_type": "code",
   "execution_count": 106,
   "id": "388f9a1c",
   "metadata": {},
   "outputs": [
    {
     "data": {
      "text/plain": [
       "0.8660431317157835"
      ]
     },
     "execution_count": 106,
     "metadata": {},
     "output_type": "execute_result"
    }
   ],
   "source": [
    "#Train Score\n",
    "xgb_train=xgb.score(X_train,y_train)\n",
    "xgb_train"
   ]
  },
  {
   "cell_type": "code",
   "execution_count": 107,
   "id": "b699c006",
   "metadata": {},
   "outputs": [
    {
     "data": {
      "text/plain": [
       "0.6359562867561943"
      ]
     },
     "execution_count": 107,
     "metadata": {},
     "output_type": "execute_result"
    }
   ],
   "source": [
    "#Test Score\n",
    "xgb_test=xgb.score(X_test,y_test)\n",
    "xgb_test"
   ]
  },
  {
   "cell_type": "markdown",
   "id": "3cfd7d88",
   "metadata": {},
   "source": [
    "# Building LGBM Regressor Model"
   ]
  },
  {
   "cell_type": "code",
   "execution_count": 108,
   "id": "b6a5d7d5",
   "metadata": {},
   "outputs": [
    {
     "name": "stdout",
     "output_type": "stream",
     "text": [
      "Requirement already satisfied: lightgbm in c:\\users\\alfarid\\anaconda3\\lib\\site-packages (3.3.3)\n",
      "Requirement already satisfied: scipy in c:\\users\\alfarid\\anaconda3\\lib\\site-packages (from lightgbm) (1.7.3)\n",
      "Requirement already satisfied: numpy in c:\\users\\alfarid\\anaconda3\\lib\\site-packages (from lightgbm) (1.21.5)\n",
      "Requirement already satisfied: scikit-learn!=0.22.0 in c:\\users\\alfarid\\anaconda3\\lib\\site-packages (from lightgbm) (1.0.2)\n",
      "Requirement already satisfied: wheel in c:\\users\\alfarid\\anaconda3\\lib\\site-packages (from lightgbm) (0.37.1)\n",
      "Requirement already satisfied: threadpoolctl>=2.0.0 in c:\\users\\alfarid\\anaconda3\\lib\\site-packages (from scikit-learn!=0.22.0->lightgbm) (2.2.0)\n",
      "Requirement already satisfied: joblib>=0.11 in c:\\users\\alfarid\\anaconda3\\lib\\site-packages (from scikit-learn!=0.22.0->lightgbm) (1.1.0)\n",
      "Note: you may need to restart the kernel to use updated packages.\n"
     ]
    }
   ],
   "source": [
    "pip install lightgbm"
   ]
  },
  {
   "cell_type": "code",
   "execution_count": 109,
   "id": "0aeed7aa",
   "metadata": {},
   "outputs": [],
   "source": [
    "import lightgbm as lgb\n",
    "lgbm = lgb.LGBMRegressor()\n",
    "lgbm.fit(X_train,y_train)\n",
    "lgbm_pred = lgbm.predict(X_test)"
   ]
  },
  {
   "cell_type": "code",
   "execution_count": 110,
   "id": "4f221cf0",
   "metadata": {},
   "outputs": [
    {
     "data": {
      "text/plain": [
       "355.1662139783704"
      ]
     },
     "execution_count": 110,
     "metadata": {},
     "output_type": "execute_result"
    }
   ],
   "source": [
    "#RMSE score \n",
    "lgbm_rmse = np.sqrt(metrics.mean_squared_error(lgbm_pred,y_test))\n",
    "lgbm_rmse"
   ]
  },
  {
   "cell_type": "code",
   "execution_count": 111,
   "id": "f95354a9",
   "metadata": {},
   "outputs": [
    {
     "data": {
      "text/plain": [
       "0.5450237429363084"
      ]
     },
     "execution_count": 111,
     "metadata": {},
     "output_type": "execute_result"
    }
   ],
   "source": [
    "#R2 score\n",
    "lgbm_r2score = metrics.r2_score(lgbm_pred,y_test)\n",
    "lgbm_r2score"
   ]
  },
  {
   "cell_type": "code",
   "execution_count": 112,
   "id": "123772b1",
   "metadata": {},
   "outputs": [
    {
     "data": {
      "text/plain": [
       "0.7650706568846082"
      ]
     },
     "execution_count": 112,
     "metadata": {},
     "output_type": "execute_result"
    }
   ],
   "source": [
    "#Train Score\n",
    "lgbm_train=lgbm.score(X_train,y_train)\n",
    "lgbm_train"
   ]
  },
  {
   "cell_type": "code",
   "execution_count": 113,
   "id": "84526ae6",
   "metadata": {},
   "outputs": [
    {
     "data": {
      "text/plain": [
       "0.665114996616837"
      ]
     },
     "execution_count": 113,
     "metadata": {},
     "output_type": "execute_result"
    }
   ],
   "source": [
    "#Test Score\n",
    "lgbm_test=lgbm.score(X_test,y_test)\n",
    "lgbm_test"
   ]
  },
  {
   "cell_type": "markdown",
   "id": "31f1dd82",
   "metadata": {},
   "source": [
    "# Model Performance Assessment"
   ]
  },
  {
   "cell_type": "code",
   "execution_count": 114,
   "id": "7ea74a40",
   "metadata": {},
   "outputs": [],
   "source": [
    "#Creating dictionary for all the metrics and models\n",
    "metrics = {'Metrics': ['RMSE Score','R2 Score','Train Score','Test Score'],'KNN':[knn_rmse,knn_r2score,knn_train,knn_test],'Linear Regression':[lr_rmse,lr_r2score,lr_train,lr_test],\n",
    "          'Decision Tree Regressor':[dt_rmse,dt_r2score,dt_train,dt_test],'Random Forest Regressor':[rf_rmse,rf_r2score,rf_train,rf_test],\n",
    "        'AdaBoost Regressor':[ab_rmse,ab_r2score,ab_train,ab_test],\n",
    "          'GradientBoosting Regressor':[gb_rmse,gb_r2score,gb_train,gb_test],'XGBoost Regressor':[xgb_rmse,xgb_r2score,xgb_train,xgb_test],\n",
    "           'LGBM Regressor':[lgbm_rmse,lgbm_r2score,lgbm_train,lgbm_test]}"
   ]
  },
  {
   "cell_type": "code",
   "execution_count": 115,
   "id": "b5ec3672",
   "metadata": {},
   "outputs": [
    {
     "data": {
      "text/html": [
       "<div>\n",
       "<style scoped>\n",
       "    .dataframe tbody tr th:only-of-type {\n",
       "        vertical-align: middle;\n",
       "    }\n",
       "\n",
       "    .dataframe tbody tr th {\n",
       "        vertical-align: top;\n",
       "    }\n",
       "\n",
       "    .dataframe thead th {\n",
       "        text-align: right;\n",
       "    }\n",
       "</style>\n",
       "<table border=\"1\" class=\"dataframe\">\n",
       "  <thead>\n",
       "    <tr style=\"text-align: right;\">\n",
       "      <th></th>\n",
       "      <th>Metrics</th>\n",
       "      <th>KNN</th>\n",
       "      <th>Linear Regression</th>\n",
       "      <th>Decision Tree Regressor</th>\n",
       "      <th>Random Forest Regressor</th>\n",
       "      <th>AdaBoost Regressor</th>\n",
       "      <th>GradientBoosting Regressor</th>\n",
       "      <th>XGBoost Regressor</th>\n",
       "      <th>LGBM Regressor</th>\n",
       "    </tr>\n",
       "  </thead>\n",
       "  <tbody>\n",
       "    <tr>\n",
       "      <th>0</th>\n",
       "      <td>RMSE Score</td>\n",
       "      <td>377.346236</td>\n",
       "      <td>381.322837</td>\n",
       "      <td>476.220241</td>\n",
       "      <td>377.495808</td>\n",
       "      <td>544.503629</td>\n",
       "      <td>347.888000</td>\n",
       "      <td>370.305842</td>\n",
       "      <td>355.166214</td>\n",
       "    </tr>\n",
       "    <tr>\n",
       "      <th>1</th>\n",
       "      <td>R2 Score</td>\n",
       "      <td>0.500663</td>\n",
       "      <td>0.372213</td>\n",
       "      <td>0.439998</td>\n",
       "      <td>0.525969</td>\n",
       "      <td>-0.050118</td>\n",
       "      <td>0.558963</td>\n",
       "      <td>0.539277</td>\n",
       "      <td>0.545024</td>\n",
       "    </tr>\n",
       "    <tr>\n",
       "      <th>2</th>\n",
       "      <td>Train Score</td>\n",
       "      <td>0.769899</td>\n",
       "      <td>0.641901</td>\n",
       "      <td>0.985204</td>\n",
       "      <td>0.939661</td>\n",
       "      <td>0.307693</td>\n",
       "      <td>0.735930</td>\n",
       "      <td>0.866043</td>\n",
       "      <td>0.765071</td>\n",
       "    </tr>\n",
       "    <tr>\n",
       "      <th>3</th>\n",
       "      <td>Test Score</td>\n",
       "      <td>0.621982</td>\n",
       "      <td>0.613973</td>\n",
       "      <td>0.397928</td>\n",
       "      <td>0.621682</td>\n",
       "      <td>0.212893</td>\n",
       "      <td>0.678700</td>\n",
       "      <td>0.635956</td>\n",
       "      <td>0.665115</td>\n",
       "    </tr>\n",
       "  </tbody>\n",
       "</table>\n",
       "</div>"
      ],
      "text/plain": [
       "       Metrics         KNN  Linear Regression  Decision Tree Regressor  \\\n",
       "0   RMSE Score  377.346236         381.322837               476.220241   \n",
       "1     R2 Score    0.500663           0.372213                 0.439998   \n",
       "2  Train Score    0.769899           0.641901                 0.985204   \n",
       "3   Test Score    0.621982           0.613973                 0.397928   \n",
       "\n",
       "   Random Forest Regressor  AdaBoost Regressor  GradientBoosting Regressor  \\\n",
       "0               377.495808          544.503629                  347.888000   \n",
       "1                 0.525969           -0.050118                    0.558963   \n",
       "2                 0.939661            0.307693                    0.735930   \n",
       "3                 0.621682            0.212893                    0.678700   \n",
       "\n",
       "   XGBoost Regressor  LGBM Regressor  \n",
       "0         370.305842      355.166214  \n",
       "1           0.539277        0.545024  \n",
       "2           0.866043        0.765071  \n",
       "3           0.635956        0.665115  "
      ]
     },
     "execution_count": 115,
     "metadata": {},
     "output_type": "execute_result"
    }
   ],
   "source": [
    "#Converting dictionary to dataframe\n",
    "metrics = pd.DataFrame(metrics)\n",
    "metrics"
   ]
  },
  {
   "cell_type": "code",
   "execution_count": 140,
   "id": "72c460ec",
   "metadata": {},
   "outputs": [
    {
     "data": {
      "image/png": "[encoded data removed]",
      "text/plain": [
       "<Figure size 432x288 with 1 Axes>"
      ]
     },
     "metadata": {
      "needs_background": "light"
     },
     "output_type": "display_data"
    }
   ],
   "source": [
    "metrics.plot(y=['KNN',\"Linear Regression\", \"Decision Tree Regressor\",\"Random Forest Regressor\",\"AdaBoost Regressor\",\n",
    "               \"GradientBoosting Regressor\",\"XGBoost Regressor\",\"LGBM Regressor\"], kind=\"bar\", legend=False)\n",
    "plt.legend(bbox_to_anchor=(1.05, 1), loc=2, borderaxespad=0.)\n",
    "plt.show()"
   ]
  },
  {
   "cell_type": "markdown",
   "id": "e9bcaecc",
   "metadata": {},
   "source": [
    "* Looking at the above Performance Matrix we can say thay XGBoost is the best model for this dataset."
   ]
  },
  {
   "cell_type": "markdown",
   "id": "c2634a79",
   "metadata": {},
   "source": [
    "# Model Explanability"
   ]
  },
  {
   "cell_type": "code",
   "execution_count": 121,
   "id": "56c29f1d",
   "metadata": {},
   "outputs": [
    {
     "name": "stdout",
     "output_type": "stream",
     "text": [
      "Requirement already satisfied: eli5 in c:\\users\\alfarid\\anaconda3\\lib\\site-packages (0.13.0)\n",
      "Requirement already satisfied: scikit-learn>=0.20 in c:\\users\\alfarid\\anaconda3\\lib\\site-packages (from eli5) (1.0.2)\n",
      "Requirement already satisfied: numpy>=1.9.0 in c:\\users\\alfarid\\anaconda3\\lib\\site-packages (from eli5) (1.21.5)\n",
      "Requirement already satisfied: tabulate>=0.7.7 in c:\\users\\alfarid\\anaconda3\\lib\\site-packages (from eli5) (0.8.9)\n",
      "Requirement already satisfied: scipy in c:\\users\\alfarid\\anaconda3\\lib\\site-packages (from eli5) (1.7.3)\n",
      "Requirement already satisfied: graphviz in c:\\users\\alfarid\\anaconda3\\lib\\site-packages (from eli5) (0.20.1)\n",
      "Requirement already satisfied: attrs>17.1.0 in c:\\users\\alfarid\\anaconda3\\lib\\site-packages (from eli5) (21.4.0)\n",
      "Requirement already satisfied: jinja2>=3.0.0 in c:\\users\\alfarid\\anaconda3\\lib\\site-packages (from eli5) (3.1.2)\n",
      "Requirement already satisfied: six in c:\\users\\alfarid\\anaconda3\\lib\\site-packages (from eli5) (1.16.0)\n",
      "Requirement already satisfied: MarkupSafe>=2.0 in c:\\users\\alfarid\\anaconda3\\lib\\site-packages (from jinja2>=3.0.0->eli5) (2.0.1)\n",
      "Requirement already satisfied: joblib>=0.11 in c:\\users\\alfarid\\anaconda3\\lib\\site-packages (from scikit-learn>=0.20->eli5) (1.1.0)\n",
      "Requirement already satisfied: threadpoolctl>=2.0.0 in c:\\users\\alfarid\\anaconda3\\lib\\site-packages (from scikit-learn>=0.20->eli5) (2.2.0)\n",
      "Note: you may need to restart the kernel to use updated packages.\n"
     ]
    }
   ],
   "source": [
    "pip install eli5"
   ]
  },
  {
   "cell_type": "code",
   "execution_count": 122,
   "id": "8003bc76",
   "metadata": {},
   "outputs": [
    {
     "name": "stdout",
     "output_type": "stream",
     "text": [
      "Collecting PermutationImportanceNote: you may need to restart the kernel to use updated packages.\n"
     ]
    },
    {
     "name": "stderr",
     "output_type": "stream",
     "text": [
      "  ERROR: Command errored out with exit status 1:\n",
      "   command: 'C:\\Users\\Alfarid\\anaconda3\\python.exe' -u -c 'import io, os, sys, setuptools, tokenize; sys.argv[0] = '\"'\"'C:\\\\Users\\\\Alfarid\\\\AppData\\\\Local\\\\Temp\\\\pip-install-m4a620y5\\\\scipy_66b3a38ce1d847659b7bf26f95b5bedc\\\\setup.py'\"'\"'; __file__='\"'\"'C:\\\\Users\\\\Alfarid\\\\AppData\\\\Local\\\\Temp\\\\pip-install-m4a620y5\\\\scipy_66b3a38ce1d847659b7bf26f95b5bedc\\\\setup.py'\"'\"';f = getattr(tokenize, '\"'\"'open'\"'\"', open)(__file__) if os.path.exists(__file__) else io.StringIO('\"'\"'from setuptools import setup; setup()'\"'\"');code = f.read().replace('\"'\"'\\r\\n'\"'\"', '\"'\"'\\n'\"'\"');f.close();exec(compile(code, __file__, '\"'\"'exec'\"'\"'))' bdist_wheel -d 'C:\\Users\\Alfarid\\AppData\\Local\\Temp\\pip-wheel-m1vs9_nf'\n",
      "       cwd: C:\\Users\\Alfarid\\AppData\\Local\\Temp\\pip-install-m4a620y5\\scipy_66b3a38ce1d847659b7bf26f95b5bedc\\\n",
      "  Complete output (140 lines):\n",
      "  C:\\Users\\Alfarid\\AppData\\Local\\Temp\\pip-install-m4a620y5\\scipy_66b3a38ce1d847659b7bf26f95b5bedc\\setup.py:114: DeprecationWarning: the imp module is deprecated in favour of importlib; see the module's documentation for alternative uses\n",
      "    import imp\n",
      "  lapack_opt_info:\n",
      "  lapack_mkl_info:\n"
     ]
    },
    {
     "name": "stdout",
     "output_type": "stream",
     "text": [
      "\n",
      "  Using cached PermutationImportance-1.2.1.8-py2.py3-none-any.whl (50 kB)\n",
      "Requirement already satisfied: numpy in c:\\users\\alfarid\\anaconda3\\lib\\site-packages (from PermutationImportance) (1.21.5)\n",
      "Requirement already satisfied: scikit-learn in c:\\users\\alfarid\\anaconda3\\lib\\site-packages (from PermutationImportance) (1.0.2)\n",
      "Collecting scipy==1.1.0\n",
      "  Using cached scipy-1.1.0.tar.gz (15.6 MB)\n",
      "Requirement already satisfied: pandas in c:\\users\\alfarid\\anaconda3\\lib\\site-packages (from PermutationImportance) (1.4.2)\n",
      "Requirement already satisfied: python-dateutil>=2.8.1 in c:\\users\\alfarid\\anaconda3\\lib\\site-packages (from pandas->PermutationImportance) (2.8.2)\n",
      "Requirement already satisfied: pytz>=2020.1 in c:\\users\\alfarid\\anaconda3\\lib\\site-packages (from pandas->PermutationImportance) (2021.3)\n",
      "Requirement already satisfied: six>=1.5 in c:\\users\\alfarid\\anaconda3\\lib\\site-packages (from python-dateutil>=2.8.1->pandas->PermutationImportance) (1.16.0)\n",
      "Requirement already satisfied: joblib>=0.11 in c:\\users\\alfarid\\anaconda3\\lib\\site-packages (from scikit-learn->PermutationImportance) (1.1.0)\n",
      "Requirement already satisfied: threadpoolctl>=2.0.0 in c:\\users\\alfarid\\anaconda3\\lib\\site-packages (from scikit-learn->PermutationImportance) (2.2.0)\n",
      "Building wheels for collected packages: scipy\n",
      "  Building wheel for scipy (setup.py): started\n",
      "  Building wheel for scipy (setup.py): finished with status 'error'\n",
      "  Running setup.py clean for scipy\n",
      "Failed to build scipy\n",
      "Installing collected packages: scipy, PermutationImportance\n",
      "  Attempting uninstall: scipy\n",
      "    Found existing installation: scipy 1.7.3\n",
      "    Uninstalling scipy-1.7.3:\n",
      "      Successfully uninstalled scipy-1.7.3\n",
      "    Running setup.py install for scipy: started\n",
      "    Running setup.py install for scipy: finished with status 'error'\n",
      "  Rolling back uninstall of scipy\n",
      "  Moving to c:\\users\\alfarid\\anaconda3\\lib\\site-packages\\scipy-1.7.3.dist-info\\\n",
      "   from C:\\Users\\Alfarid\\anaconda3\\Lib\\site-packages\\~cipy-1.7.3.dist-info\n",
      "  Moving to c:\\users\\alfarid\\anaconda3\\lib\\site-packages\\scipy\\\n",
      "   from C:\\Users\\Alfarid\\anaconda3\\Lib\\site-packages\\~cipy\n"
     ]
    },
    {
     "name": "stderr",
     "output_type": "stream",
     "text": [
      "  No module named 'numpy.distutils._msvccompiler' in numpy.distutils; trying from distutils\n",
      "  customize MSVCCompiler\n",
      "    libraries mkl_rt not found in ['C:/Users/Alfarid/anaconda3\\\\Library\\\\lib']\n",
      "    NOT AVAILABLE\n",
      "  \n",
      "  openblas_lapack_info:\n",
      "    libraries openblas not found in ['C:\\\\Users\\\\Alfarid\\\\anaconda3\\\\lib', 'C:\\\\', 'C:\\\\Users\\\\Alfarid\\\\anaconda3\\\\libs']\n",
      "  get_default_fcompiler: matching types: '['gnu', 'intelv', 'absoft', 'compaqv', 'intelev', 'gnu95', 'g95', 'intelvem', 'intelem', 'flang']'\n",
      "  customize GnuFCompiler\n",
      "  Could not locate executable g77\n",
      "  Could not locate executable f77\n",
      "  customize IntelVisualFCompiler\n",
      "  Could not locate executable ifort\n",
      "  Could not locate executable ifl\n",
      "  customize AbsoftFCompiler\n",
      "  Could not locate executable f90\n",
      "  customize CompaqVisualFCompiler\n",
      "  Could not locate executable DF\n",
      "  customize IntelItaniumVisualFCompiler\n",
      "  Could not locate executable efl\n",
      "  customize Gnu95FCompiler\n",
      "  Could not locate executable gfortran\n",
      "  Could not locate executable f95\n",
      "  customize G95FCompiler\n",
      "  Could not locate executable g95\n",
      "  customize IntelEM64VisualFCompiler\n",
      "  customize IntelEM64TFCompiler\n",
      "  Could not locate executable efort\n",
      "  Could not locate executable efc\n",
      "  customize PGroupFlangCompiler\n",
      "  Could not locate executable flang\n",
      "  don't know how to compile Fortran code on platform 'nt'\n",
      "    NOT AVAILABLE\n",
      "  \n",
      "  openblas_clapack_info:\n",
      "    libraries openblas,lapack not found in ['C:\\\\Users\\\\Alfarid\\\\anaconda3\\\\lib', 'C:\\\\', 'C:\\\\Users\\\\Alfarid\\\\anaconda3\\\\libs']\n",
      "    NOT AVAILABLE\n",
      "  \n",
      "  flame_info:\n",
      "    libraries flame not found in ['C:\\\\Users\\\\Alfarid\\\\anaconda3\\\\lib', 'C:\\\\', 'C:\\\\Users\\\\Alfarid\\\\anaconda3\\\\libs']\n",
      "    NOT AVAILABLE\n",
      "  \n",
      "  accelerate_info:\n",
      "    NOT AVAILABLE\n",
      "  \n",
      "  atlas_3_10_threads_info:\n",
      "  Setting PTATLAS=ATLAS\n",
      "    libraries lapack_atlas not found in C:\\Users\\Alfarid\\anaconda3\\lib\n",
      "    libraries tatlas,tatlas not found in C:\\Users\\Alfarid\\anaconda3\\lib\n",
      "    libraries lapack_atlas not found in C:\\\n",
      "    libraries tatlas,tatlas not found in C:\\\n",
      "    libraries lapack_atlas not found in C:\\Users\\Alfarid\\anaconda3\\libs\n",
      "    libraries tatlas,tatlas not found in C:\\Users\\Alfarid\\anaconda3\\libs\n",
      "  <class 'numpy.distutils.system_info.atlas_3_10_threads_info'>\n",
      "    NOT AVAILABLE\n",
      "  \n",
      "  atlas_3_10_info:\n",
      "    libraries lapack_atlas not found in C:\\Users\\Alfarid\\anaconda3\\lib\n",
      "    libraries satlas,satlas not found in C:\\Users\\Alfarid\\anaconda3\\lib\n",
      "    libraries lapack_atlas not found in C:\\\n",
      "    libraries satlas,satlas not found in C:\\\n",
      "    libraries lapack_atlas not found in C:\\Users\\Alfarid\\anaconda3\\libs\n",
      "    libraries satlas,satlas not found in C:\\Users\\Alfarid\\anaconda3\\libs\n",
      "  <class 'numpy.distutils.system_info.atlas_3_10_info'>\n",
      "    NOT AVAILABLE\n",
      "  \n",
      "  atlas_threads_info:\n",
      "  Setting PTATLAS=ATLAS\n",
      "    libraries lapack_atlas not found in C:\\Users\\Alfarid\\anaconda3\\lib\n",
      "    libraries ptf77blas,ptcblas,atlas not found in C:\\Users\\Alfarid\\anaconda3\\lib\n",
      "    libraries lapack_atlas not found in C:\\\n",
      "    libraries ptf77blas,ptcblas,atlas not found in C:\\\n",
      "    libraries lapack_atlas not found in C:\\Users\\Alfarid\\anaconda3\\libs\n",
      "    libraries ptf77blas,ptcblas,atlas not found in C:\\Users\\Alfarid\\anaconda3\\libs\n",
      "  <class 'numpy.distutils.system_info.atlas_threads_info'>\n",
      "    NOT AVAILABLE\n",
      "  \n",
      "  atlas_info:\n",
      "    libraries lapack_atlas not found in C:\\Users\\Alfarid\\anaconda3\\lib\n",
      "    libraries f77blas,cblas,atlas not found in C:\\Users\\Alfarid\\anaconda3\\lib\n",
      "    libraries lapack_atlas not found in C:\\\n",
      "    libraries f77blas,cblas,atlas not found in C:\\\n",
      "    libraries lapack_atlas not found in C:\\Users\\Alfarid\\anaconda3\\libs\n",
      "    libraries f77blas,cblas,atlas not found in C:\\Users\\Alfarid\\anaconda3\\libs\n",
      "  <class 'numpy.distutils.system_info.atlas_info'>\n",
      "    NOT AVAILABLE\n",
      "  \n",
      "  lapack_info:\n",
      "    libraries lapack not found in ['C:\\\\Users\\\\Alfarid\\\\anaconda3\\\\lib', 'C:\\\\', 'C:\\\\Users\\\\Alfarid\\\\anaconda3\\\\libs']\n",
      "    NOT AVAILABLE\n",
      "  \n",
      "  C:\\Users\\Alfarid\\anaconda3\\lib\\site-packages\\numpy\\distutils\\system_info.py:1858: UserWarning:\n",
      "      Lapack (http://www.netlib.org/lapack/) libraries not found.\n",
      "      Directories to search for the libraries can be specified in the\n",
      "      numpy/distutils/site.cfg file (section [lapack]) or by setting\n",
      "      the LAPACK environment variable.\n",
      "    return getattr(self, '_calc_info_{}'.format(name))()\n",
      "  lapack_src_info:\n",
      "    NOT AVAILABLE\n",
      "  \n",
      "  C:\\Users\\Alfarid\\anaconda3\\lib\\site-packages\\numpy\\distutils\\system_info.py:1858: UserWarning:\n",
      "      Lapack (http://www.netlib.org/lapack/) sources not found.\n",
      "      Directories to search for the sources can be specified in the\n",
      "      numpy/distutils/site.cfg file (section [lapack_src]) or by setting\n",
      "      the LAPACK_SRC environment variable.\n",
      "    return getattr(self, '_calc_info_{}'.format(name))()\n",
      "    NOT AVAILABLE\n",
      "  \n",
      "  Running from scipy source directory.\n",
      "  Traceback (most recent call last):\n",
      "    File \"<string>\", line 1, in <module>\n",
      "    File \"C:\\Users\\Alfarid\\AppData\\Local\\Temp\\pip-install-m4a620y5\\scipy_66b3a38ce1d847659b7bf26f95b5bedc\\setup.py\", line 474, in <module>\n",
      "      setup_package()\n",
      "    File \"C:\\Users\\Alfarid\\AppData\\Local\\Temp\\pip-install-m4a620y5\\scipy_66b3a38ce1d847659b7bf26f95b5bedc\\setup.py\", line 470, in setup_package\n",
      "      setup(**metadata)\n",
      "    File \"C:\\Users\\Alfarid\\anaconda3\\lib\\site-packages\\numpy\\distutils\\core.py\", line 135, in setup\n",
      "      config = configuration()\n",
      "    File \"C:\\Users\\Alfarid\\AppData\\Local\\Temp\\pip-install-m4a620y5\\scipy_66b3a38ce1d847659b7bf26f95b5bedc\\setup.py\", line 388, in configuration\n",
      "      config.add_subpackage('scipy')\n",
      "    File \"C:\\Users\\Alfarid\\anaconda3\\lib\\site-packages\\numpy\\distutils\\misc_util.py\", line 1014, in add_subpackage\n",
      "      config_list = self.get_subpackage(subpackage_name, subpackage_path,\n",
      "    File \"C:\\Users\\Alfarid\\anaconda3\\lib\\site-packages\\numpy\\distutils\\misc_util.py\", line 980, in get_subpackage\n",
      "      config = self._get_configuration_from_setup_py(\n",
      "    File \"C:\\Users\\Alfarid\\anaconda3\\lib\\site-packages\\numpy\\distutils\\misc_util.py\", line 922, in _get_configuration_from_setup_py\n",
      "      config = setup_module.configuration(*args)\n",
      "    File \"scipy\\setup.py\", line 15, in configuration\n",
      "      config.add_subpackage('linalg')\n",
      "    File \"C:\\Users\\Alfarid\\anaconda3\\lib\\site-packages\\numpy\\distutils\\misc_util.py\", line 1014, in add_subpackage\n",
      "      config_list = self.get_subpackage(subpackage_name, subpackage_path,\n",
      "    File \"C:\\Users\\Alfarid\\anaconda3\\lib\\site-packages\\numpy\\distutils\\misc_util.py\", line 980, in get_subpackage\n",
      "      config = self._get_configuration_from_setup_py(\n",
      "    File \"C:\\Users\\Alfarid\\anaconda3\\lib\\site-packages\\numpy\\distutils\\misc_util.py\", line 922, in _get_configuration_from_setup_py\n",
      "      config = setup_module.configuration(*args)\n",
      "    File \"scipy\\linalg\\setup.py\", line 19, in configuration\n",
      "      raise NotFoundError('no lapack/blas resources found')\n",
      "  numpy.distutils.system_info.NotFoundError: no lapack/blas resources found\n",
      "  ----------------------------------------\n",
      "  ERROR: Failed building wheel for scipy\n",
      "  ERROR: Command errored out with exit status 1:\n",
      "   command: 'C:\\Users\\Alfarid\\anaconda3\\python.exe' -u -c 'import io, os, sys, setuptools, tokenize; sys.argv[0] = '\"'\"'C:\\\\Users\\\\Alfarid\\\\AppData\\\\Local\\\\Temp\\\\pip-install-m4a620y5\\\\scipy_66b3a38ce1d847659b7bf26f95b5bedc\\\\setup.py'\"'\"'; __file__='\"'\"'C:\\\\Users\\\\Alfarid\\\\AppData\\\\Local\\\\Temp\\\\pip-install-m4a620y5\\\\scipy_66b3a38ce1d847659b7bf26f95b5bedc\\\\setup.py'\"'\"';f = getattr(tokenize, '\"'\"'open'\"'\"', open)(__file__) if os.path.exists(__file__) else io.StringIO('\"'\"'from setuptools import setup; setup()'\"'\"');code = f.read().replace('\"'\"'\\r\\n'\"'\"', '\"'\"'\\n'\"'\"');f.close();exec(compile(code, __file__, '\"'\"'exec'\"'\"'))' clean --all\n",
      "       cwd: C:\\Users\\Alfarid\\AppData\\Local\\Temp\\pip-install-m4a620y5\\scipy_66b3a38ce1d847659b7bf26f95b5bedc\n",
      "  Complete output (11 lines):\n",
      "  C:\\Users\\Alfarid\\AppData\\Local\\Temp\\pip-install-m4a620y5\\scipy_66b3a38ce1d847659b7bf26f95b5bedc\\setup.py:114: DeprecationWarning: the imp module is deprecated in favour of importlib; see the module's documentation for alternative uses\n",
      "    import imp\n",
      "  \n",
      "  `setup.py clean` is not supported, use one of the following instead:\n",
      "  \n",
      "    - `git clean -xdf` (cleans all files)\n",
      "    - `git clean -Xdf` (cleans all versioned files, doesn't touch\n",
      "                        files that aren't checked into the git repo)\n",
      "  \n",
      "  Add `--force` to your command to use it anyway if you must (unsupported).\n",
      "  \n",
      "  ----------------------------------------\n",
      "  ERROR: Failed cleaning build dir for scipy\n",
      "    ERROR: Command errored out with exit status 1:\n",
      "     command: 'C:\\Users\\Alfarid\\anaconda3\\python.exe' -u -c 'import io, os, sys, setuptools, tokenize; sys.argv[0] = '\"'\"'C:\\\\Users\\\\Alfarid\\\\AppData\\\\Local\\\\Temp\\\\pip-install-m4a620y5\\\\scipy_66b3a38ce1d847659b7bf26f95b5bedc\\\\setup.py'\"'\"'; __file__='\"'\"'C:\\\\Users\\\\Alfarid\\\\AppData\\\\Local\\\\Temp\\\\pip-install-m4a620y5\\\\scipy_66b3a38ce1d847659b7bf26f95b5bedc\\\\setup.py'\"'\"';f = getattr(tokenize, '\"'\"'open'\"'\"', open)(__file__) if os.path.exists(__file__) else io.StringIO('\"'\"'from setuptools import setup; setup()'\"'\"');code = f.read().replace('\"'\"'\\r\\n'\"'\"', '\"'\"'\\n'\"'\"');f.close();exec(compile(code, __file__, '\"'\"'exec'\"'\"'))' install --record 'C:\\Users\\Alfarid\\AppData\\Local\\Temp\\pip-record-ix1dmf7l\\install-record.txt' --single-version-externally-managed --compile --install-headers 'C:\\Users\\Alfarid\\anaconda3\\Include\\scipy'\n",
      "         cwd: C:\\Users\\Alfarid\\AppData\\Local\\Temp\\pip-install-m4a620y5\\scipy_66b3a38ce1d847659b7bf26f95b5bedc\\\n",
      "    Complete output (149 lines):\n",
      "    C:\\Users\\Alfarid\\AppData\\Local\\Temp\\pip-install-m4a620y5\\scipy_66b3a38ce1d847659b7bf26f95b5bedc\\setup.py:114: DeprecationWarning: the imp module is deprecated in favour of importlib; see the module's documentation for alternative uses\n",
      "      import imp\n",
      "    \n",
      "    Note: if you need reliable uninstall behavior, then install\n",
      "    with pip instead of using `setup.py install`:\n",
      "    \n",
      "      - `pip install .`       (from a git repo or downloaded source\n",
      "                               release)\n",
      "      - `pip install scipy`   (last SciPy release on PyPI)\n",
      "    \n",
      "    \n",
      "    lapack_opt_info:\n",
      "    lapack_mkl_info:\n",
      "    No module named 'numpy.distutils._msvccompiler' in numpy.distutils; trying from distutils\n",
      "    customize MSVCCompiler\n",
      "      libraries mkl_rt not found in ['C:/Users/Alfarid/anaconda3\\\\Library\\\\lib']\n",
      "      NOT AVAILABLE\n",
      "    \n",
      "    openblas_lapack_info:\n",
      "      libraries openblas not found in ['C:\\\\Users\\\\Alfarid\\\\anaconda3\\\\lib', 'C:\\\\', 'C:\\\\Users\\\\Alfarid\\\\anaconda3\\\\libs']\n",
      "    get_default_fcompiler: matching types: '['gnu', 'intelv', 'absoft', 'compaqv', 'intelev', 'gnu95', 'g95', 'intelvem', 'intelem', 'flang']'\n",
      "    customize GnuFCompiler\n",
      "    Could not locate executable g77\n",
      "    Could not locate executable f77\n",
      "    customize IntelVisualFCompiler\n"
     ]
    }
   ],
   "source": [
    "pip install PermutationImportance"
   ]
  },
  {
   "cell_type": "code",
   "execution_count": 123,
   "id": "6c40fd23",
   "metadata": {},
   "outputs": [
    {
     "name": "stderr",
     "output_type": "stream",
     "text": [
      "    Could not locate executable ifort\n",
      "    Could not locate executable ifl\n",
      "    customize AbsoftFCompiler\n",
      "    Could not locate executable f90\n",
      "    customize CompaqVisualFCompiler\n",
      "    Could not locate executable DF\n",
      "    customize IntelItaniumVisualFCompiler\n",
      "    Could not locate executable efl\n",
      "    customize Gnu95FCompiler\n",
      "    Could not locate executable gfortran\n",
      "    Could not locate executable f95\n",
      "    customize G95FCompiler\n",
      "    Could not locate executable g95\n",
      "    customize IntelEM64VisualFCompiler\n",
      "    customize IntelEM64TFCompiler\n",
      "    Could not locate executable efort\n",
      "    Could not locate executable efc\n",
      "    customize PGroupFlangCompiler\n",
      "    Could not locate executable flang\n",
      "    don't know how to compile Fortran code on platform 'nt'\n",
      "      NOT AVAILABLE\n",
      "    \n",
      "    openblas_clapack_info:\n",
      "      libraries openblas,lapack not found in ['C:\\\\Users\\\\Alfarid\\\\anaconda3\\\\lib', 'C:\\\\', 'C:\\\\Users\\\\Alfarid\\\\anaconda3\\\\libs']\n",
      "      NOT AVAILABLE\n",
      "    \n",
      "    flame_info:\n",
      "      libraries flame not found in ['C:\\\\Users\\\\Alfarid\\\\anaconda3\\\\lib', 'C:\\\\', 'C:\\\\Users\\\\Alfarid\\\\anaconda3\\\\libs']\n",
      "      NOT AVAILABLE\n",
      "    \n",
      "    accelerate_info:\n",
      "      NOT AVAILABLE\n",
      "    \n",
      "    atlas_3_10_threads_info:\n",
      "    Setting PTATLAS=ATLAS\n",
      "      libraries lapack_atlas not found in C:\\Users\\Alfarid\\anaconda3\\lib\n",
      "      libraries tatlas,tatlas not found in C:\\Users\\Alfarid\\anaconda3\\lib\n",
      "      libraries lapack_atlas not found in C:\\\n",
      "      libraries tatlas,tatlas not found in C:\\\n",
      "      libraries lapack_atlas not found in C:\\Users\\Alfarid\\anaconda3\\libs\n",
      "      libraries tatlas,tatlas not found in C:\\Users\\Alfarid\\anaconda3\\libs\n",
      "    <class 'numpy.distutils.system_info.atlas_3_10_threads_info'>\n",
      "      NOT AVAILABLE\n",
      "    \n",
      "    atlas_3_10_info:\n",
      "      libraries lapack_atlas not found in C:\\Users\\Alfarid\\anaconda3\\lib\n",
      "      libraries satlas,satlas not found in C:\\Users\\Alfarid\\anaconda3\\lib\n",
      "      libraries lapack_atlas not found in C:\\\n",
      "      libraries satlas,satlas not found in C:\\\n",
      "      libraries lapack_atlas not found in C:\\Users\\Alfarid\\anaconda3\\libs\n",
      "      libraries satlas,satlas not found in C:\\Users\\Alfarid\\anaconda3\\libs\n",
      "    <class 'numpy.distutils.system_info.atlas_3_10_info'>\n",
      "      NOT AVAILABLE\n",
      "    \n",
      "    atlas_threads_info:\n",
      "    Setting PTATLAS=ATLAS\n",
      "      libraries lapack_atlas not found in C:\\Users\\Alfarid\\anaconda3\\lib\n",
      "      libraries ptf77blas,ptcblas,atlas not found in C:\\Users\\Alfarid\\anaconda3\\lib\n",
      "      libraries lapack_atlas not found in C:\\\n",
      "      libraries ptf77blas,ptcblas,atlas not found in C:\\\n",
      "      libraries lapack_atlas not found in C:\\Users\\Alfarid\\anaconda3\\libs\n",
      "      libraries ptf77blas,ptcblas,atlas not found in C:\\Users\\Alfarid\\anaconda3\\libs\n",
      "    <class 'numpy.distutils.system_info.atlas_threads_info'>\n",
      "      NOT AVAILABLE\n",
      "    \n",
      "    atlas_info:\n",
      "      libraries lapack_atlas not found in C:\\Users\\Alfarid\\anaconda3\\lib\n",
      "      libraries f77blas,cblas,atlas not found in C:\\Users\\Alfarid\\anaconda3\\lib\n",
      "      libraries lapack_atlas not found in C:\\\n",
      "      libraries f77blas,cblas,atlas not found in C:\\\n",
      "      libraries lapack_atlas not found in C:\\Users\\Alfarid\\anaconda3\\libs\n",
      "      libraries f77blas,cblas,atlas not found in C:\\Users\\Alfarid\\anaconda3\\libs\n",
      "    <class 'numpy.distutils.system_info.atlas_info'>\n",
      "      NOT AVAILABLE\n",
      "    \n",
      "    lapack_info:\n",
      "      libraries lapack not found in ['C:\\\\Users\\\\Alfarid\\\\anaconda3\\\\lib', 'C:\\\\', 'C:\\\\Users\\\\Alfarid\\\\anaconda3\\\\libs']\n",
      "      NOT AVAILABLE\n",
      "    \n",
      "    C:\\Users\\Alfarid\\anaconda3\\lib\\site-packages\\numpy\\distutils\\system_info.py:1858: UserWarning:\n",
      "        Lapack (http://www.netlib.org/lapack/) libraries not found.\n",
      "        Directories to search for the libraries can be specified in the\n",
      "        numpy/distutils/site.cfg file (section [lapack]) or by setting\n",
      "        the LAPACK environment variable.\n",
      "      return getattr(self, '_calc_info_{}'.format(name))()\n",
      "    lapack_src_info:\n",
      "      NOT AVAILABLE\n",
      "    \n",
      "    C:\\Users\\Alfarid\\anaconda3\\lib\\site-packages\\numpy\\distutils\\system_info.py:1858: UserWarning:\n",
      "        Lapack (http://www.netlib.org/lapack/) sources not found.\n",
      "        Directories to search for the sources can be specified in the\n",
      "        numpy/distutils/site.cfg file (section [lapack_src]) or by setting\n",
      "        the LAPACK_SRC environment variable.\n",
      "      return getattr(self, '_calc_info_{}'.format(name))()\n",
      "      NOT AVAILABLE\n",
      "    \n",
      "    Running from scipy source directory.\n",
      "    Traceback (most recent call last):\n",
      "      File \"<string>\", line 1, in <module>\n",
      "      File \"C:\\Users\\Alfarid\\AppData\\Local\\Temp\\pip-install-m4a620y5\\scipy_66b3a38ce1d847659b7bf26f95b5bedc\\setup.py\", line 474, in <module>\n",
      "        setup_package()\n",
      "      File \"C:\\Users\\Alfarid\\AppData\\Local\\Temp\\pip-install-m4a620y5\\scipy_66b3a38ce1d847659b7bf26f95b5bedc\\setup.py\", line 470, in setup_package\n",
      "        setup(**metadata)\n",
      "      File \"C:\\Users\\Alfarid\\anaconda3\\lib\\site-packages\\numpy\\distutils\\core.py\", line 135, in setup\n",
      "        config = configuration()\n",
      "      File \"C:\\Users\\Alfarid\\AppData\\Local\\Temp\\pip-install-m4a620y5\\scipy_66b3a38ce1d847659b7bf26f95b5bedc\\setup.py\", line 388, in configuration\n",
      "        config.add_subpackage('scipy')\n",
      "      File \"C:\\Users\\Alfarid\\anaconda3\\lib\\site-packages\\numpy\\distutils\\misc_util.py\", line 1014, in add_subpackage\n",
      "        config_list = self.get_subpackage(subpackage_name, subpackage_path,\n",
      "      File \"C:\\Users\\Alfarid\\anaconda3\\lib\\site-packages\\numpy\\distutils\\misc_util.py\", line 980, in get_subpackage\n",
      "        config = self._get_configuration_from_setup_py(\n",
      "      File \"C:\\Users\\Alfarid\\anaconda3\\lib\\site-packages\\numpy\\distutils\\misc_util.py\", line 922, in _get_configuration_from_setup_py\n",
      "        config = setup_module.configuration(*args)\n",
      "      File \"scipy\\setup.py\", line 15, in configuration\n",
      "        config.add_subpackage('linalg')\n",
      "      File \"C:\\Users\\Alfarid\\anaconda3\\lib\\site-packages\\numpy\\distutils\\misc_util.py\", line 1014, in add_subpackage\n",
      "        config_list = self.get_subpackage(subpackage_name, subpackage_path,\n",
      "      File \"C:\\Users\\Alfarid\\anaconda3\\lib\\site-packages\\numpy\\distutils\\misc_util.py\", line 980, in get_subpackage\n",
      "        config = self._get_configuration_from_setup_py(\n",
      "      File \"C:\\Users\\Alfarid\\anaconda3\\lib\\site-packages\\numpy\\distutils\\misc_util.py\", line 922, in _get_configuration_from_setup_py\n",
      "        config = setup_module.configuration(*args)\n",
      "      File \"scipy\\linalg\\setup.py\", line 19, in configuration\n",
      "        raise NotFoundError('no lapack/blas resources found')\n",
      "    numpy.distutils.system_info.NotFoundError: no lapack/blas resources found\n",
      "    ----------------------------------------\n",
      "ERROR: Command errored out with exit status 1: 'C:\\Users\\Alfarid\\anaconda3\\python.exe' -u -c 'import io, os, sys, setuptools, tokenize; sys.argv[0] = '\"'\"'C:\\\\Users\\\\Alfarid\\\\AppData\\\\Local\\\\Temp\\\\pip-install-m4a620y5\\\\scipy_66b3a38ce1d847659b7bf26f95b5bedc\\\\setup.py'\"'\"'; __file__='\"'\"'C:\\\\Users\\\\Alfarid\\\\AppData\\\\Local\\\\Temp\\\\pip-install-m4a620y5\\\\scipy_66b3a38ce1d847659b7bf26f95b5bedc\\\\setup.py'\"'\"';f = getattr(tokenize, '\"'\"'open'\"'\"', open)(__file__) if os.path.exists(__file__) else io.StringIO('\"'\"'from setuptools import setup; setup()'\"'\"');code = f.read().replace('\"'\"'\\r\\n'\"'\"', '\"'\"'\\n'\"'\"');f.close();exec(compile(code, __file__, '\"'\"'exec'\"'\"'))' install --record 'C:\\Users\\Alfarid\\AppData\\Local\\Temp\\pip-record-ix1dmf7l\\install-record.txt' --single-version-externally-managed --compile --install-headers 'C:\\Users\\Alfarid\\anaconda3\\Include\\scipy' Check the logs for full command output.\n"
     ]
    },
    {
     "name": "stdout",
     "output_type": "stream",
     "text": [
      "Requirement already satisfied: lime in c:\\users\\alfarid\\anaconda3\\lib\\site-packages (0.2.0.1)\n",
      "Requirement already satisfied: scikit-learn>=0.18 in c:\\users\\alfarid\\anaconda3\\lib\\site-packages (from lime) (1.0.2)\n",
      "Requirement already satisfied: matplotlib in c:\\users\\alfarid\\anaconda3\\lib\\site-packages (from lime) (3.5.1)\n",
      "Requirement already satisfied: scikit-image>=0.12 in c:\\users\\alfarid\\anaconda3\\lib\\site-packages (from lime) (0.19.2)\n",
      "Requirement already satisfied: scipy in c:\\users\\alfarid\\anaconda3\\lib\\site-packages (from lime) (1.7.3)\n",
      "Requirement already satisfied: numpy in c:\\users\\alfarid\\anaconda3\\lib\\site-packages (from lime) (1.21.5)\n",
      "Requirement already satisfied: tqdm in c:\\users\\alfarid\\anaconda3\\lib\\site-packages (from lime) (4.64.0)\n",
      "Requirement already satisfied: imageio>=2.4.1 in c:\\users\\alfarid\\anaconda3\\lib\\site-packages (from scikit-image>=0.12->lime) (2.9.0)\n",
      "Requirement already satisfied: networkx>=2.2 in c:\\users\\alfarid\\anaconda3\\lib\\site-packages (from scikit-image>=0.12->lime) (2.7.1)\n",
      "Requirement already satisfied: tifffile>=2019.7.26 in c:\\users\\alfarid\\anaconda3\\lib\\site-packages (from scikit-image>=0.12->lime) (2021.7.2)\n",
      "Requirement already satisfied: packaging>=20.0 in c:\\users\\alfarid\\anaconda3\\lib\\site-packages (from scikit-image>=0.12->lime) (21.3)\n",
      "Requirement already satisfied: pillow!=7.1.0,!=7.1.1,!=8.3.0,>=6.1.0 in c:\\users\\alfarid\\anaconda3\\lib\\site-packages (from scikit-image>=0.12->lime) (9.0.1)\n",
      "Requirement already satisfied: PyWavelets>=1.1.1 in c:\\users\\alfarid\\anaconda3\\lib\\site-packages (from scikit-image>=0.12->lime) (1.3.0)\n",
      "Requirement already satisfied: pyparsing!=3.0.5,>=2.0.2 in c:\\users\\alfarid\\anaconda3\\lib\\site-packages (from packaging>=20.0->scikit-image>=0.12->lime) (3.0.4)\n",
      "Requirement already satisfied: threadpoolctl>=2.0.0 in c:\\users\\alfarid\\anaconda3\\lib\\site-packages (from scikit-learn>=0.18->lime) (2.2.0)\n",
      "Requirement already satisfied: joblib>=0.11 in c:\\users\\alfarid\\anaconda3\\lib\\site-packages (from scikit-learn>=0.18->lime) (1.1.0)\n",
      "Requirement already satisfied: python-dateutil>=2.7 in c:\\users\\alfarid\\anaconda3\\lib\\site-packages (from matplotlib->lime) (2.8.2)\n",
      "Requirement already satisfied: cycler>=0.10 in c:\\users\\alfarid\\anaconda3\\lib\\site-packages (from matplotlib->lime) (0.11.0)\n",
      "Requirement already satisfied: fonttools>=4.22.0 in c:\\users\\alfarid\\anaconda3\\lib\\site-packages (from matplotlib->lime) (4.25.0)\n",
      "Requirement already satisfied: kiwisolver>=1.0.1 in c:\\users\\alfarid\\anaconda3\\lib\\site-packages (from matplotlib->lime) (1.3.2)\n",
      "Requirement already satisfied: six>=1.5 in c:\\users\\alfarid\\anaconda3\\lib\\site-packages (from python-dateutil>=2.7->matplotlib->lime) (1.16.0)\n",
      "Requirement already satisfied: colorama in c:\\users\\alfarid\\anaconda3\\lib\\site-packages (from tqdm->lime) (0.4.4)\n",
      "Note: you may need to restart the kernel to use updated packages.\n"
     ]
    }
   ],
   "source": [
    "pip install lime"
   ]
  },
  {
   "cell_type": "code",
   "execution_count": 124,
   "id": "1091cd99",
   "metadata": {},
   "outputs": [
    {
     "name": "stdout",
     "output_type": "stream",
     "text": [
      "Requirement already satisfied: shap in c:\\users\\alfarid\\anaconda3\\lib\\site-packages (0.41.0)\n",
      "Requirement already satisfied: pandas in c:\\users\\alfarid\\anaconda3\\lib\\site-packages (from shap) (1.4.2)\n",
      "Requirement already satisfied: scikit-learn in c:\\users\\alfarid\\anaconda3\\lib\\site-packages (from shap) (1.0.2)\n",
      "Requirement already satisfied: cloudpickle in c:\\users\\alfarid\\anaconda3\\lib\\site-packages (from shap) (2.0.0)\n",
      "Requirement already satisfied: packaging>20.9 in c:\\users\\alfarid\\anaconda3\\lib\\site-packages (from shap) (21.3)\n",
      "Requirement already satisfied: tqdm>4.25.0 in c:\\users\\alfarid\\anaconda3\\lib\\site-packages (from shap) (4.64.0)\n",
      "Requirement already satisfied: numpy in c:\\users\\alfarid\\anaconda3\\lib\\site-packages (from shap) (1.21.5)\n",
      "Requirement already satisfied: slicer==0.0.7 in c:\\users\\alfarid\\anaconda3\\lib\\site-packages (from shap) (0.0.7)\n",
      "Requirement already satisfied: numba in c:\\users\\alfarid\\anaconda3\\lib\\site-packages (from shap) (0.55.1)\n",
      "Requirement already satisfied: scipy in c:\\users\\alfarid\\anaconda3\\lib\\site-packages (from shap) (1.7.3)\n",
      "Requirement already satisfied: pyparsing!=3.0.5,>=2.0.2 in c:\\users\\alfarid\\anaconda3\\lib\\site-packages (from packaging>20.9->shap) (3.0.4)\n",
      "Requirement already satisfied: colorama in c:\\users\\alfarid\\anaconda3\\lib\\site-packages (from tqdm>4.25.0->shap) (0.4.4)\n",
      "Requirement already satisfied: llvmlite<0.39,>=0.38.0rc1 in c:\\users\\alfarid\\anaconda3\\lib\\site-packages (from numba->shap) (0.38.0)\n",
      "Requirement already satisfied: setuptools in c:\\users\\alfarid\\anaconda3\\lib\\site-packages (from numba->shap) (61.2.0)\n",
      "Requirement already satisfied: pytz>=2020.1 in c:\\users\\alfarid\\anaconda3\\lib\\site-packages (from pandas->shap) (2021.3)\n",
      "Requirement already satisfied: python-dateutil>=2.8.1 in c:\\users\\alfarid\\anaconda3\\lib\\site-packages (from pandas->shap) (2.8.2)\n",
      "Requirement already satisfied: six>=1.5 in c:\\users\\alfarid\\anaconda3\\lib\\site-packages (from python-dateutil>=2.8.1->pandas->shap) (1.16.0)\n",
      "Requirement already satisfied: joblib>=0.11 in c:\\users\\alfarid\\anaconda3\\lib\\site-packages (from scikit-learn->shap) (1.1.0)\n",
      "Requirement already satisfied: threadpoolctl>=2.0.0 in c:\\users\\alfarid\\anaconda3\\lib\\site-packages (from scikit-learn->shap) (2.2.0)\n",
      "Note: you may need to restart the kernel to use updated packages.\n"
     ]
    }
   ],
   "source": [
    "pip install shap"
   ]
  },
  {
   "cell_type": "code",
   "execution_count": 125,
   "id": "a97240e7",
   "metadata": {},
   "outputs": [],
   "source": [
    "#Finding the importance of columns for prediction\n",
    "#Eli5\n",
    "import eli5\n",
    "from eli5.sklearn import PermutationImportance\n",
    "import lime\n",
    "import lime.lime_tabular\n",
    "import shap"
   ]
  },
  {
   "cell_type": "code",
   "execution_count": 126,
   "id": "e134779d",
   "metadata": {},
   "outputs": [],
   "source": [
    "perm = PermutationImportance(xgb, random_state=1).fit(X_test,xgb_pred)\n"
   ]
  },
  {
   "cell_type": "code",
   "execution_count": 127,
   "id": "104f1f65",
   "metadata": {},
   "outputs": [],
   "source": [
    "perm = PermutationImportance(xgb, random_state=1).fit(X_test,xgb_pred)"
   ]
  },
  {
   "cell_type": "code",
   "execution_count": 128,
   "id": "7f2b7351",
   "metadata": {},
   "outputs": [
    {
     "data": {
      "text/html": [
       "\n",
       "    <style>\n",
       "    table.eli5-weights tr:hover {\n",
       "        filter: brightness(85%);\n",
       "    }\n",
       "</style>\n",
       "\n",
       "\n",
       "\n",
       "    \n",
       "\n",
       "    \n",
       "\n",
       "    \n",
       "\n",
       "    \n",
       "\n",
       "    \n",
       "\n",
       "    \n",
       "\n",
       "\n",
       "    \n",
       "\n",
       "    \n",
       "\n",
       "    \n",
       "\n",
       "    \n",
       "\n",
       "    \n",
       "\n",
       "    \n",
       "\n",
       "\n",
       "    \n",
       "\n",
       "    \n",
       "\n",
       "    \n",
       "\n",
       "    \n",
       "\n",
       "    \n",
       "        <table class=\"eli5-weights eli5-feature-importances\" style=\"border-collapse: collapse; border: none; margin-top: 0em; table-layout: auto;\">\n",
       "    <thead>\n",
       "    <tr style=\"border: none;\">\n",
       "        <th style=\"padding: 0 1em 0 0.5em; text-align: right; border: none;\">Weight</th>\n",
       "        <th style=\"padding: 0 0.5em 0 0.5em; text-align: left; border: none;\">Feature</th>\n",
       "    </tr>\n",
       "    </thead>\n",
       "    <tbody>\n",
       "    \n",
       "        <tr style=\"background-color: hsl(120, 100.00%, 80.00%); border: none;\">\n",
       "            <td style=\"padding: 0 1em 0 0.5em; text-align: right; border: none;\">\n",
       "                1.9714\n",
       "                \n",
       "                    &plusmn; 0.1052\n",
       "                \n",
       "            </td>\n",
       "            <td style=\"padding: 0 0.5em 0 0.5em; text-align: left; border: none;\">\n",
       "                x0\n",
       "            </td>\n",
       "        </tr>\n",
       "    \n",
       "        <tr style=\"background-color: hsl(120, 100.00%, 98.03%); border: none;\">\n",
       "            <td style=\"padding: 0 1em 0 0.5em; text-align: right; border: none;\">\n",
       "                0.0718\n",
       "                \n",
       "                    &plusmn; 0.0016\n",
       "                \n",
       "            </td>\n",
       "            <td style=\"padding: 0 0.5em 0 0.5em; text-align: left; border: none;\">\n",
       "                x8\n",
       "            </td>\n",
       "        </tr>\n",
       "    \n",
       "        <tr style=\"background-color: hsl(120, 100.00%, 98.93%); border: none;\">\n",
       "            <td style=\"padding: 0 1em 0 0.5em; text-align: right; border: none;\">\n",
       "                0.0302\n",
       "                \n",
       "                    &plusmn; 0.0028\n",
       "                \n",
       "            </td>\n",
       "            <td style=\"padding: 0 0.5em 0 0.5em; text-align: left; border: none;\">\n",
       "                x4\n",
       "            </td>\n",
       "        </tr>\n",
       "    \n",
       "        <tr style=\"background-color: hsl(120, 100.00%, 98.96%); border: none;\">\n",
       "            <td style=\"padding: 0 1em 0 0.5em; text-align: right; border: none;\">\n",
       "                0.0290\n",
       "                \n",
       "                    &plusmn; 0.0033\n",
       "                \n",
       "            </td>\n",
       "            <td style=\"padding: 0 0.5em 0 0.5em; text-align: left; border: none;\">\n",
       "                x9\n",
       "            </td>\n",
       "        </tr>\n",
       "    \n",
       "        <tr style=\"background-color: hsl(120, 100.00%, 99.00%); border: none;\">\n",
       "            <td style=\"padding: 0 1em 0 0.5em; text-align: right; border: none;\">\n",
       "                0.0272\n",
       "                \n",
       "                    &plusmn; 0.0016\n",
       "                \n",
       "            </td>\n",
       "            <td style=\"padding: 0 0.5em 0 0.5em; text-align: left; border: none;\">\n",
       "                x10\n",
       "            </td>\n",
       "        </tr>\n",
       "    \n",
       "        <tr style=\"background-color: hsl(120, 100.00%, 99.11%); border: none;\">\n",
       "            <td style=\"padding: 0 1em 0 0.5em; text-align: right; border: none;\">\n",
       "                0.0233\n",
       "                \n",
       "                    &plusmn; 0.0017\n",
       "                \n",
       "            </td>\n",
       "            <td style=\"padding: 0 0.5em 0 0.5em; text-align: left; border: none;\">\n",
       "                x3\n",
       "            </td>\n",
       "        </tr>\n",
       "    \n",
       "        <tr style=\"background-color: hsl(120, 100.00%, 99.22%); border: none;\">\n",
       "            <td style=\"padding: 0 1em 0 0.5em; text-align: right; border: none;\">\n",
       "                0.0190\n",
       "                \n",
       "                    &plusmn; 0.0021\n",
       "                \n",
       "            </td>\n",
       "            <td style=\"padding: 0 0.5em 0 0.5em; text-align: left; border: none;\">\n",
       "                x11\n",
       "            </td>\n",
       "        </tr>\n",
       "    \n",
       "        <tr style=\"background-color: hsl(120, 100.00%, 99.34%); border: none;\">\n",
       "            <td style=\"padding: 0 1em 0 0.5em; text-align: right; border: none;\">\n",
       "                0.0149\n",
       "                \n",
       "                    &plusmn; 0.0042\n",
       "                \n",
       "            </td>\n",
       "            <td style=\"padding: 0 0.5em 0 0.5em; text-align: left; border: none;\">\n",
       "                x5\n",
       "            </td>\n",
       "        </tr>\n",
       "    \n",
       "        <tr style=\"background-color: hsl(120, 100.00%, 99.45%); border: none;\">\n",
       "            <td style=\"padding: 0 1em 0 0.5em; text-align: right; border: none;\">\n",
       "                0.0117\n",
       "                \n",
       "                    &plusmn; 0.0037\n",
       "                \n",
       "            </td>\n",
       "            <td style=\"padding: 0 0.5em 0 0.5em; text-align: left; border: none;\">\n",
       "                x2\n",
       "            </td>\n",
       "        </tr>\n",
       "    \n",
       "        <tr style=\"background-color: hsl(120, 100.00%, 99.51%); border: none;\">\n",
       "            <td style=\"padding: 0 1em 0 0.5em; text-align: right; border: none;\">\n",
       "                0.0100\n",
       "                \n",
       "                    &plusmn; 0.0007\n",
       "                \n",
       "            </td>\n",
       "            <td style=\"padding: 0 0.5em 0 0.5em; text-align: left; border: none;\">\n",
       "                x13\n",
       "            </td>\n",
       "        </tr>\n",
       "    \n",
       "        <tr style=\"background-color: hsl(120, 100.00%, 99.51%); border: none;\">\n",
       "            <td style=\"padding: 0 1em 0 0.5em; text-align: right; border: none;\">\n",
       "                0.0098\n",
       "                \n",
       "                    &plusmn; 0.0017\n",
       "                \n",
       "            </td>\n",
       "            <td style=\"padding: 0 0.5em 0 0.5em; text-align: left; border: none;\">\n",
       "                x12\n",
       "            </td>\n",
       "        </tr>\n",
       "    \n",
       "        <tr style=\"background-color: hsl(120, 100.00%, 99.53%); border: none;\">\n",
       "            <td style=\"padding: 0 1em 0 0.5em; text-align: right; border: none;\">\n",
       "                0.0092\n",
       "                \n",
       "                    &plusmn; 0.0019\n",
       "                \n",
       "            </td>\n",
       "            <td style=\"padding: 0 0.5em 0 0.5em; text-align: left; border: none;\">\n",
       "                x6\n",
       "            </td>\n",
       "        </tr>\n",
       "    \n",
       "        <tr style=\"background-color: hsl(120, 100.00%, 99.55%); border: none;\">\n",
       "            <td style=\"padding: 0 1em 0 0.5em; text-align: right; border: none;\">\n",
       "                0.0086\n",
       "                \n",
       "                    &plusmn; 0.0033\n",
       "                \n",
       "            </td>\n",
       "            <td style=\"padding: 0 0.5em 0 0.5em; text-align: left; border: none;\">\n",
       "                x1\n",
       "            </td>\n",
       "        </tr>\n",
       "    \n",
       "        <tr style=\"background-color: hsl(120, 100.00%, 99.58%); border: none;\">\n",
       "            <td style=\"padding: 0 1em 0 0.5em; text-align: right; border: none;\">\n",
       "                0.0078\n",
       "                \n",
       "                    &plusmn; 0.0031\n",
       "                \n",
       "            </td>\n",
       "            <td style=\"padding: 0 0.5em 0 0.5em; text-align: left; border: none;\">\n",
       "                x15\n",
       "            </td>\n",
       "        </tr>\n",
       "    \n",
       "        <tr style=\"background-color: hsl(120, 100.00%, 99.62%); border: none;\">\n",
       "            <td style=\"padding: 0 1em 0 0.5em; text-align: right; border: none;\">\n",
       "                0.0069\n",
       "                \n",
       "                    &plusmn; 0.0031\n",
       "                \n",
       "            </td>\n",
       "            <td style=\"padding: 0 0.5em 0 0.5em; text-align: left; border: none;\">\n",
       "                x7\n",
       "            </td>\n",
       "        </tr>\n",
       "    \n",
       "        <tr style=\"background-color: hsl(120, 100.00%, 99.76%); border: none;\">\n",
       "            <td style=\"padding: 0 1em 0 0.5em; text-align: right; border: none;\">\n",
       "                0.0036\n",
       "                \n",
       "                    &plusmn; 0.0004\n",
       "                \n",
       "            </td>\n",
       "            <td style=\"padding: 0 0.5em 0 0.5em; text-align: left; border: none;\">\n",
       "                x17\n",
       "            </td>\n",
       "        </tr>\n",
       "    \n",
       "        <tr style=\"background-color: hsl(120, 100.00%, 99.82%); border: none;\">\n",
       "            <td style=\"padding: 0 1em 0 0.5em; text-align: right; border: none;\">\n",
       "                0.0024\n",
       "                \n",
       "                    &plusmn; 0.0004\n",
       "                \n",
       "            </td>\n",
       "            <td style=\"padding: 0 0.5em 0 0.5em; text-align: left; border: none;\">\n",
       "                x16\n",
       "            </td>\n",
       "        </tr>\n",
       "    \n",
       "        <tr style=\"background-color: hsl(120, 100.00%, 99.89%); border: none;\">\n",
       "            <td style=\"padding: 0 1em 0 0.5em; text-align: right; border: none;\">\n",
       "                0.0012\n",
       "                \n",
       "                    &plusmn; 0.0003\n",
       "                \n",
       "            </td>\n",
       "            <td style=\"padding: 0 0.5em 0 0.5em; text-align: left; border: none;\">\n",
       "                x19\n",
       "            </td>\n",
       "        </tr>\n",
       "    \n",
       "        <tr style=\"background-color: hsl(120, 100.00%, 99.91%); border: none;\">\n",
       "            <td style=\"padding: 0 1em 0 0.5em; text-align: right; border: none;\">\n",
       "                0.0009\n",
       "                \n",
       "                    &plusmn; 0.0004\n",
       "                \n",
       "            </td>\n",
       "            <td style=\"padding: 0 0.5em 0 0.5em; text-align: left; border: none;\">\n",
       "                x18\n",
       "            </td>\n",
       "        </tr>\n",
       "    \n",
       "        <tr style=\"background-color: hsl(0, 100.00%, 100.00%); border: none;\">\n",
       "            <td style=\"padding: 0 1em 0 0.5em; text-align: right; border: none;\">\n",
       "                0\n",
       "                \n",
       "                    &plusmn; 0.0000\n",
       "                \n",
       "            </td>\n",
       "            <td style=\"padding: 0 0.5em 0 0.5em; text-align: left; border: none;\">\n",
       "                x20\n",
       "            </td>\n",
       "        </tr>\n",
       "    \n",
       "    \n",
       "        \n",
       "            <tr style=\"background-color: hsl(0, 100.00%, 100.00%); border: none;\">\n",
       "                <td colspan=\"2\" style=\"padding: 0 0.5em 0 0.5em; text-align: center; border: none; white-space: nowrap;\">\n",
       "                    <i>&hellip; 1 more &hellip;</i>\n",
       "                </td>\n",
       "            </tr>\n",
       "        \n",
       "    \n",
       "    </tbody>\n",
       "</table>\n",
       "    \n",
       "\n",
       "    \n",
       "\n",
       "\n",
       "    \n",
       "\n",
       "    \n",
       "\n",
       "    \n",
       "\n",
       "    \n",
       "\n",
       "    \n",
       "\n",
       "    \n",
       "\n",
       "\n",
       "\n"
      ],
      "text/plain": [
       "<IPython.core.display.HTML object>"
      ]
     },
     "execution_count": 128,
     "metadata": {},
     "output_type": "execute_result"
    }
   ],
   "source": [
    "eli5.show_weights(perm)"
   ]
  },
  {
   "cell_type": "code",
   "execution_count": 129,
   "id": "2dc25fd3",
   "metadata": {},
   "outputs": [
    {
     "data": {
      "text/plain": [
       "['distance_km',\n",
       " 'Friday',\n",
       " 'Monday',\n",
       " 'Saturday',\n",
       " 'Sunday',\n",
       " 'Thursday',\n",
       " 'Tuesday',\n",
       " 'Wednesday',\n",
       " 'latenight(22 onwards)',\n",
       " 'normal_hour_afternoon(9-16)',\n",
       " 'normal_hour_evening(19-22)',\n",
       " 'rush_hour_evening(18-22)',\n",
       " 'rush_hour_morning(7-9)',\n",
       " 1,\n",
       " 2,\n",
       " 3,\n",
       " 4,\n",
       " 5,\n",
       " 6,\n",
       " 'N',\n",
       " 'Y']"
      ]
     },
     "execution_count": 129,
     "metadata": {},
     "output_type": "execute_result"
    }
   ],
   "source": [
    "\n",
    "feature_names= X_train.columns.tolist()\n",
    "feature_names"
   ]
  },
  {
   "cell_type": "code",
   "execution_count": 130,
   "id": "275dabaf",
   "metadata": {},
   "outputs": [
    {
     "data": {
      "text/html": [
       "\n",
       "    <style>\n",
       "    table.eli5-weights tr:hover {\n",
       "        filter: brightness(85%);\n",
       "    }\n",
       "</style>\n",
       "\n",
       "\n",
       "\n",
       "    \n",
       "\n",
       "    \n",
       "\n",
       "    \n",
       "\n",
       "    \n",
       "\n",
       "    \n",
       "\n",
       "    \n",
       "\n",
       "\n",
       "    \n",
       "\n",
       "    \n",
       "\n",
       "    \n",
       "\n",
       "    \n",
       "\n",
       "    \n",
       "\n",
       "    \n",
       "\n",
       "\n",
       "    \n",
       "\n",
       "    \n",
       "\n",
       "    \n",
       "\n",
       "    \n",
       "\n",
       "    \n",
       "        <table class=\"eli5-weights eli5-feature-importances\" style=\"border-collapse: collapse; border: none; margin-top: 0em; table-layout: auto;\">\n",
       "    <thead>\n",
       "    <tr style=\"border: none;\">\n",
       "        <th style=\"padding: 0 1em 0 0.5em; text-align: right; border: none;\">Weight</th>\n",
       "        <th style=\"padding: 0 0.5em 0 0.5em; text-align: left; border: none;\">Feature</th>\n",
       "    </tr>\n",
       "    </thead>\n",
       "    <tbody>\n",
       "    \n",
       "        <tr style=\"background-color: hsl(120, 100.00%, 80.00%); border: none;\">\n",
       "            <td style=\"padding: 0 1em 0 0.5em; text-align: right; border: none;\">\n",
       "                0.2397\n",
       "                \n",
       "            </td>\n",
       "            <td style=\"padding: 0 0.5em 0 0.5em; text-align: left; border: none;\">\n",
       "                distance_km\n",
       "            </td>\n",
       "        </tr>\n",
       "    \n",
       "        <tr style=\"background-color: hsl(120, 100.00%, 86.27%); border: none;\">\n",
       "            <td style=\"padding: 0 1em 0 0.5em; text-align: right; border: none;\">\n",
       "                0.1401\n",
       "                \n",
       "            </td>\n",
       "            <td style=\"padding: 0 0.5em 0 0.5em; text-align: left; border: none;\">\n",
       "                latenight(22 onwards)\n",
       "            </td>\n",
       "        </tr>\n",
       "    \n",
       "        <tr style=\"background-color: hsl(120, 100.00%, 88.86%); border: none;\">\n",
       "            <td style=\"padding: 0 1em 0 0.5em; text-align: right; border: none;\">\n",
       "                0.1039\n",
       "                \n",
       "            </td>\n",
       "            <td style=\"padding: 0 0.5em 0 0.5em; text-align: left; border: none;\">\n",
       "                normal_hour_evening(19-22)\n",
       "            </td>\n",
       "        </tr>\n",
       "    \n",
       "        <tr style=\"background-color: hsl(120, 100.00%, 92.75%); border: none;\">\n",
       "            <td style=\"padding: 0 1em 0 0.5em; text-align: right; border: none;\">\n",
       "                0.0563\n",
       "                \n",
       "            </td>\n",
       "            <td style=\"padding: 0 0.5em 0 0.5em; text-align: left; border: none;\">\n",
       "                Sunday\n",
       "            </td>\n",
       "        </tr>\n",
       "    \n",
       "        <tr style=\"background-color: hsl(120, 100.00%, 93.19%); border: none;\">\n",
       "            <td style=\"padding: 0 1em 0 0.5em; text-align: right; border: none;\">\n",
       "                0.0514\n",
       "                \n",
       "            </td>\n",
       "            <td style=\"padding: 0 0.5em 0 0.5em; text-align: left; border: none;\">\n",
       "                normal_hour_afternoon(9-16)\n",
       "            </td>\n",
       "        </tr>\n",
       "    \n",
       "        <tr style=\"background-color: hsl(120, 100.00%, 93.89%); border: none;\">\n",
       "            <td style=\"padding: 0 1em 0 0.5em; text-align: right; border: none;\">\n",
       "                0.0441\n",
       "                \n",
       "            </td>\n",
       "            <td style=\"padding: 0 0.5em 0 0.5em; text-align: left; border: none;\">\n",
       "                Saturday\n",
       "            </td>\n",
       "        </tr>\n",
       "    \n",
       "        <tr style=\"background-color: hsl(120, 100.00%, 94.36%); border: none;\">\n",
       "            <td style=\"padding: 0 1em 0 0.5em; text-align: right; border: none;\">\n",
       "                0.0393\n",
       "                \n",
       "            </td>\n",
       "            <td style=\"padding: 0 0.5em 0 0.5em; text-align: left; border: none;\">\n",
       "                Wednesday\n",
       "            </td>\n",
       "        </tr>\n",
       "    \n",
       "        <tr style=\"background-color: hsl(120, 100.00%, 94.43%); border: none;\">\n",
       "            <td style=\"padding: 0 1em 0 0.5em; text-align: right; border: none;\">\n",
       "                0.0386\n",
       "                \n",
       "            </td>\n",
       "            <td style=\"padding: 0 0.5em 0 0.5em; text-align: left; border: none;\">\n",
       "                rush_hour_evening(18-22)\n",
       "            </td>\n",
       "        </tr>\n",
       "    \n",
       "        <tr style=\"background-color: hsl(120, 100.00%, 94.94%); border: none;\">\n",
       "            <td style=\"padding: 0 1em 0 0.5em; text-align: right; border: none;\">\n",
       "                0.0336\n",
       "                \n",
       "            </td>\n",
       "            <td style=\"padding: 0 0.5em 0 0.5em; text-align: left; border: none;\">\n",
       "                Thursday\n",
       "            </td>\n",
       "        </tr>\n",
       "    \n",
       "        <tr style=\"background-color: hsl(120, 100.00%, 95.25%); border: none;\">\n",
       "            <td style=\"padding: 0 1em 0 0.5em; text-align: right; border: none;\">\n",
       "                0.0307\n",
       "                \n",
       "            </td>\n",
       "            <td style=\"padding: 0 0.5em 0 0.5em; text-align: left; border: none;\">\n",
       "                Friday\n",
       "            </td>\n",
       "        </tr>\n",
       "    \n",
       "        <tr style=\"background-color: hsl(120, 100.00%, 95.35%); border: none;\">\n",
       "            <td style=\"padding: 0 1em 0 0.5em; text-align: right; border: none;\">\n",
       "                0.0299\n",
       "                \n",
       "            </td>\n",
       "            <td style=\"padding: 0 0.5em 0 0.5em; text-align: left; border: none;\">\n",
       "                1\n",
       "            </td>\n",
       "        </tr>\n",
       "    \n",
       "        <tr style=\"background-color: hsl(120, 100.00%, 95.55%); border: none;\">\n",
       "            <td style=\"padding: 0 1em 0 0.5em; text-align: right; border: none;\">\n",
       "                0.0280\n",
       "                \n",
       "            </td>\n",
       "            <td style=\"padding: 0 0.5em 0 0.5em; text-align: left; border: none;\">\n",
       "                rush_hour_morning(7-9)\n",
       "            </td>\n",
       "        </tr>\n",
       "    \n",
       "        <tr style=\"background-color: hsl(120, 100.00%, 95.64%); border: none;\">\n",
       "            <td style=\"padding: 0 1em 0 0.5em; text-align: right; border: none;\">\n",
       "                0.0272\n",
       "                \n",
       "            </td>\n",
       "            <td style=\"padding: 0 0.5em 0 0.5em; text-align: left; border: none;\">\n",
       "                Monday\n",
       "            </td>\n",
       "        </tr>\n",
       "    \n",
       "        <tr style=\"background-color: hsl(120, 100.00%, 95.69%); border: none;\">\n",
       "            <td style=\"padding: 0 1em 0 0.5em; text-align: right; border: none;\">\n",
       "                0.0268\n",
       "                \n",
       "            </td>\n",
       "            <td style=\"padding: 0 0.5em 0 0.5em; text-align: left; border: none;\">\n",
       "                N\n",
       "            </td>\n",
       "        </tr>\n",
       "    \n",
       "        <tr style=\"background-color: hsl(120, 100.00%, 95.69%); border: none;\">\n",
       "            <td style=\"padding: 0 1em 0 0.5em; text-align: right; border: none;\">\n",
       "                0.0267\n",
       "                \n",
       "            </td>\n",
       "            <td style=\"padding: 0 0.5em 0 0.5em; text-align: left; border: none;\">\n",
       "                3\n",
       "            </td>\n",
       "        </tr>\n",
       "    \n",
       "        <tr style=\"background-color: hsl(120, 100.00%, 95.72%); border: none;\">\n",
       "            <td style=\"padding: 0 1em 0 0.5em; text-align: right; border: none;\">\n",
       "                0.0265\n",
       "                \n",
       "            </td>\n",
       "            <td style=\"padding: 0 0.5em 0 0.5em; text-align: left; border: none;\">\n",
       "                Tuesday\n",
       "            </td>\n",
       "        </tr>\n",
       "    \n",
       "        <tr style=\"background-color: hsl(120, 100.00%, 95.84%); border: none;\">\n",
       "            <td style=\"padding: 0 1em 0 0.5em; text-align: right; border: none;\">\n",
       "                0.0254\n",
       "                \n",
       "            </td>\n",
       "            <td style=\"padding: 0 0.5em 0 0.5em; text-align: left; border: none;\">\n",
       "                5\n",
       "            </td>\n",
       "        </tr>\n",
       "    \n",
       "        <tr style=\"background-color: hsl(120, 100.00%, 96.51%); border: none;\">\n",
       "            <td style=\"padding: 0 1em 0 0.5em; text-align: right; border: none;\">\n",
       "                0.0198\n",
       "                \n",
       "            </td>\n",
       "            <td style=\"padding: 0 0.5em 0 0.5em; text-align: left; border: none;\">\n",
       "                4\n",
       "            </td>\n",
       "        </tr>\n",
       "    \n",
       "        <tr style=\"background-color: hsl(120, 100.00%, 97.51%); border: none;\">\n",
       "            <td style=\"padding: 0 1em 0 0.5em; text-align: right; border: none;\">\n",
       "                0.0122\n",
       "                \n",
       "            </td>\n",
       "            <td style=\"padding: 0 0.5em 0 0.5em; text-align: left; border: none;\">\n",
       "                6\n",
       "            </td>\n",
       "        </tr>\n",
       "    \n",
       "        <tr style=\"background-color: hsl(0, 100.00%, 100.00%); border: none;\">\n",
       "            <td style=\"padding: 0 1em 0 0.5em; text-align: right; border: none;\">\n",
       "                0\n",
       "                \n",
       "            </td>\n",
       "            <td style=\"padding: 0 0.5em 0 0.5em; text-align: left; border: none;\">\n",
       "                Y\n",
       "            </td>\n",
       "        </tr>\n",
       "    \n",
       "    \n",
       "        \n",
       "            <tr style=\"background-color: hsl(0, 100.00%, 100.00%); border: none;\">\n",
       "                <td colspan=\"2\" style=\"padding: 0 0.5em 0 0.5em; text-align: center; border: none; white-space: nowrap;\">\n",
       "                    <i>&hellip; 1 more &hellip;</i>\n",
       "                </td>\n",
       "            </tr>\n",
       "        \n",
       "    \n",
       "    </tbody>\n",
       "</table>\n",
       "    \n",
       "\n",
       "    \n",
       "\n",
       "\n",
       "    \n",
       "\n",
       "    \n",
       "\n",
       "    \n",
       "\n",
       "    \n",
       "\n",
       "    \n",
       "\n",
       "    \n",
       "\n",
       "\n",
       "\n"
      ],
      "text/plain": [
       "<IPython.core.display.HTML object>"
      ]
     },
     "execution_count": 130,
     "metadata": {},
     "output_type": "execute_result"
    }
   ],
   "source": [
    "eli5.show_weights(xgb)"
   ]
  },
  {
   "cell_type": "markdown",
   "id": "567f7f9d",
   "metadata": {},
   "source": [
    "* above chart depicts which factors affect the trip duration starting with the most to least\n",
    "* distance_km affects the most\n",
    "* while passenger count with 6 effects the least\n",
    "* store and fwd flag, not having a connection with server has no effect"
   ]
  },
  {
   "cell_type": "markdown",
   "id": "93150b47",
   "metadata": {},
   "source": [
    "# Closing Remarks"
   ]
  },
  {
   "cell_type": "markdown",
   "id": "c1e0f32e",
   "metadata": {},
   "source": [
    "\n",
    "* Most of the trips involve only 1 passenger. There are trips with 7-9 passengers but they are very low in number.\n",
    "* Vendor 2 has more number of trips as compared to vendor 1\n",
    "* Number of pickups for weekends is much lower than week days with a peak on Thursday\n",
    "* Note that here weekday is a decimal number, where 0 is Sunday and 6 is Saturday.\n",
    "* In afternoon 9-16 has max no of pick_ups and drop_offs\n",
    "* Trip durations are definitely shorter for late night and early morning hours that can be attributed to low traffic density\n",
    "* From the correlation heatmap we see that the lattitude and longitude features have higher correlation with the target as compared to the other features.\n",
    "\n",
    "* In this project we covered various aspects of the Machine learning development cycle. \n",
    "* We observed that the data exploration and variable analysis is a very important aspect of the whole cycle and should be done for thorough understanding of the data. We also cleaned the data while exploring as there were some outliers which should be treated before feature engineering. Further we did feature engineering to filter and gather only the optimal features which are more significant and covered most of the variance in the dataset. Then finally we trained the models on the optimum featureset to get the results."
   ]
  }
 ],
 "metadata": {
  "kernelspec": {
   "display_name": "Python 3 (ipykernel)",
   "language": "python",
   "name": "python3"
  },
  "language_info": {
   "codemirror_mode": {
    "name": "ipython",
    "version": 3
   },
   "file_extension": ".py",
   "mimetype": "text/x-python",
   "name": "python",
   "nbconvert_exporter": "python",
   "pygments_lexer": "ipython3",
   "version": "3.9.12"
  }
 },
 "nbformat": 4,
 "nbformat_minor": 5
}
